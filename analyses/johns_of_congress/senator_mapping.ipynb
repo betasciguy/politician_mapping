{
 "cells": [
  {
   "cell_type": "markdown",
   "metadata": {},
   "source": [
    "# Jo(h)ns of the U.S. Senate\n",
    "This visualization was inspired by this tweet:\n",
    "\n",
    "<blockquote class=\"twitter-tweet\"><p lang=\"en\" dir=\"ltr\">When Fetterman takes office in January, 10% of all U.S. senators will be named John/Jon</p>&mdash; Grace Segers (@Grace_Segers) <a href=\"https://twitter.com/Grace_Segers/status/1590432772812079104?ref_src=twsrc%5Etfw\">November 9, 2022</a></blockquote> <script async src=\"https://platform.twitter.com/widgets.js\" charset=\"utf-8\"></script>\n",
    "\n",
    "I wanted to find out who the current Jo(h)ns are, who they represent, and some other information about them. To do this, I pulled data from the wikipedia page on current US senators:\n",
    "* Source: https://en.wikipedia.org/wiki/List_of_current_United_States_senators\n",
    "\n",
    "If you're curious, there's also a notebook running this same analysis on the House of Representatives in the same folder."
   ]
  },
  {
   "cell_type": "code",
   "execution_count": 1,
   "metadata": {},
   "outputs": [],
   "source": [
    "import pandas as pd\n",
    "import requests\n",
    "from bs4 import BeautifulSoup\n",
    "import re\n",
    "import datetime as dt\n",
    "\n",
    "import seaborn as sns"
   ]
  },
  {
   "cell_type": "code",
   "execution_count": 2,
   "metadata": {},
   "outputs": [],
   "source": [
    "# Senator URL and HTML attribute properties\n",
    "table_data = {\n",
    "    'url': \"https://en.wikipedia.org/wiki/List_of_current_United_States_senators\",\n",
    "    'attrs': {'class':\"wikitable\",\n",
    "              'id': 'senators'}\n",
    "}"
   ]
  },
  {
   "cell_type": "code",
   "execution_count": 3,
   "metadata": {},
   "outputs": [
    {
     "name": "stdout",
     "output_type": "stream",
     "text": [
      "200\n"
     ]
    }
   ],
   "source": [
    "# Get the response in the form of html\n",
    "wikiurl=table_data['url']\n",
    "table_class=\"wikitable sortable jquery-tablesorter\"\n",
    "response=requests.get(wikiurl)\n",
    "print(response.status_code)"
   ]
  },
  {
   "cell_type": "code",
   "execution_count": 4,
   "metadata": {},
   "outputs": [],
   "source": [
    "# Parse data from the html into a beautifulsoup object\n",
    "soup = BeautifulSoup(response.text, 'html.parser')\n",
    "rep_tbl=soup.find('table', table_data['attrs'])"
   ]
  },
  {
   "cell_type": "code",
   "execution_count": 5,
   "metadata": {},
   "outputs": [],
   "source": [
    "df=pd.read_html(str(rep_tbl))\n",
    "# convert list to dataframe\n",
    "df=pd.DataFrame(df[0])"
   ]
  },
  {
   "cell_type": "markdown",
   "metadata": {},
   "source": [
    "Lets take a look at what this data looks like..."
   ]
  },
  {
   "cell_type": "code",
   "execution_count": 6,
   "metadata": {},
   "outputs": [
    {
     "data": {
      "text/html": [
       "<div>\n",
       "<style scoped>\n",
       "    .dataframe tbody tr th:only-of-type {\n",
       "        vertical-align: middle;\n",
       "    }\n",
       "\n",
       "    .dataframe tbody tr th {\n",
       "        vertical-align: top;\n",
       "    }\n",
       "\n",
       "    .dataframe thead th {\n",
       "        text-align: right;\n",
       "    }\n",
       "</style>\n",
       "<table border=\"1\" class=\"dataframe\">\n",
       "  <thead>\n",
       "    <tr style=\"text-align: right;\">\n",
       "      <th></th>\n",
       "      <th>State</th>\n",
       "      <th>Portrait</th>\n",
       "      <th>Senator</th>\n",
       "      <th>Party</th>\n",
       "      <th>Party.1</th>\n",
       "      <th>Born</th>\n",
       "      <th>Occupation(s)</th>\n",
       "      <th>Previous electiveoffice(s)</th>\n",
       "      <th>Education</th>\n",
       "      <th>Assumed office</th>\n",
       "      <th>Class</th>\n",
       "      <th>Residence[2]</th>\n",
       "    </tr>\n",
       "  </thead>\n",
       "  <tbody>\n",
       "    <tr>\n",
       "      <th>0</th>\n",
       "      <td>Alabama</td>\n",
       "      <td>NaN</td>\n",
       "      <td>Richard Shelby</td>\n",
       "      <td>NaN</td>\n",
       "      <td>Republican[d]</td>\n",
       "      <td>(age 88)</td>\n",
       "      <td>Lawyer</td>\n",
       "      <td>U.S. HouseAlabama Senate</td>\n",
       "      <td>University of Alabama (BA, LLB) Birmingham Sch...</td>\n",
       "      <td>January 3, 1987</td>\n",
       "      <td>2022Class 3</td>\n",
       "      <td>Tuscaloosa</td>\n",
       "    </tr>\n",
       "    <tr>\n",
       "      <th>1</th>\n",
       "      <td>Alabama</td>\n",
       "      <td>NaN</td>\n",
       "      <td>Tommy Tuberville</td>\n",
       "      <td>NaN</td>\n",
       "      <td>Republican</td>\n",
       "      <td>(age 68)</td>\n",
       "      <td>College football coachInvestment management fi...</td>\n",
       "      <td>None</td>\n",
       "      <td>Southern Arkansas University (BS)</td>\n",
       "      <td>January 3, 2021</td>\n",
       "      <td>2026Class 2</td>\n",
       "      <td>Auburn[3]</td>\n",
       "    </tr>\n",
       "    <tr>\n",
       "      <th>2</th>\n",
       "      <td>Alaska</td>\n",
       "      <td>NaN</td>\n",
       "      <td>Lisa Murkowski</td>\n",
       "      <td>NaN</td>\n",
       "      <td>Republican</td>\n",
       "      <td>(age 65)</td>\n",
       "      <td>Lawyer</td>\n",
       "      <td>Alaska House of Representatives</td>\n",
       "      <td>Georgetown University (AB) Willamette Universi...</td>\n",
       "      <td>December 20, 2002[e]</td>\n",
       "      <td>2022Class 3</td>\n",
       "      <td>Girdwood</td>\n",
       "    </tr>\n",
       "    <tr>\n",
       "      <th>3</th>\n",
       "      <td>Alaska</td>\n",
       "      <td>NaN</td>\n",
       "      <td>Dan Sullivan</td>\n",
       "      <td>NaN</td>\n",
       "      <td>Republican</td>\n",
       "      <td>(age 58)</td>\n",
       "      <td>U.S. Marine Corps officerLawyerAssistant Secre...</td>\n",
       "      <td>Alaska Attorney General</td>\n",
       "      <td>Harvard University (AB) Georgetown University ...</td>\n",
       "      <td>January 3, 2015</td>\n",
       "      <td>2026Class 2</td>\n",
       "      <td>Anchorage</td>\n",
       "    </tr>\n",
       "    <tr>\n",
       "      <th>4</th>\n",
       "      <td>Arizona</td>\n",
       "      <td>NaN</td>\n",
       "      <td>Kyrsten Sinema</td>\n",
       "      <td>NaN</td>\n",
       "      <td>Democratic</td>\n",
       "      <td>(age 46)</td>\n",
       "      <td>Social workerPolitical activistLawyerCollege l...</td>\n",
       "      <td>U.S. HouseArizona SenateArizona House of Repre...</td>\n",
       "      <td>Brigham Young University (BA) Arizona State Un...</td>\n",
       "      <td>January 3, 2019</td>\n",
       "      <td>2024Class 1</td>\n",
       "      <td>Phoenix</td>\n",
       "    </tr>\n",
       "  </tbody>\n",
       "</table>\n",
       "</div>"
      ],
      "text/plain": [
       "     State  Portrait           Senator  Party        Party.1      Born  \\\n",
       "0  Alabama       NaN    Richard Shelby    NaN  Republican[d]  (age 88)   \n",
       "1  Alabama       NaN  Tommy Tuberville    NaN     Republican  (age 68)   \n",
       "2   Alaska       NaN    Lisa Murkowski    NaN     Republican  (age 65)   \n",
       "3   Alaska       NaN      Dan Sullivan    NaN     Republican  (age 58)   \n",
       "4  Arizona       NaN    Kyrsten Sinema    NaN     Democratic  (age 46)   \n",
       "\n",
       "                                       Occupation(s)  \\\n",
       "0                                             Lawyer   \n",
       "1  College football coachInvestment management fi...   \n",
       "2                                             Lawyer   \n",
       "3  U.S. Marine Corps officerLawyerAssistant Secre...   \n",
       "4  Social workerPolitical activistLawyerCollege l...   \n",
       "\n",
       "                          Previous electiveoffice(s)  \\\n",
       "0                           U.S. HouseAlabama Senate   \n",
       "1                                               None   \n",
       "2                    Alaska House of Representatives   \n",
       "3                            Alaska Attorney General   \n",
       "4  U.S. HouseArizona SenateArizona House of Repre...   \n",
       "\n",
       "                                           Education        Assumed office  \\\n",
       "0  University of Alabama (BA, LLB) Birmingham Sch...       January 3, 1987   \n",
       "1                  Southern Arkansas University (BS)       January 3, 2021   \n",
       "2  Georgetown University (AB) Willamette Universi...  December 20, 2002[e]   \n",
       "3  Harvard University (AB) Georgetown University ...       January 3, 2015   \n",
       "4  Brigham Young University (BA) Arizona State Un...       January 3, 2019   \n",
       "\n",
       "         Class Residence[2]  \n",
       "0  2022Class 3   Tuscaloosa  \n",
       "1  2026Class 2    Auburn[3]  \n",
       "2  2022Class 3     Girdwood  \n",
       "3  2026Class 2    Anchorage  \n",
       "4  2024Class 1      Phoenix  "
      ]
     },
     "execution_count": 6,
     "metadata": {},
     "output_type": "execute_result"
    }
   ],
   "source": [
    "df.head(5)"
   ]
  },
  {
   "cell_type": "markdown",
   "metadata": {},
   "source": [
    "Clearly need to do some work and format some columns"
   ]
  },
  {
   "cell_type": "code",
   "execution_count": 7,
   "metadata": {},
   "outputs": [
    {
     "data": {
      "text/html": [
       "<div>\n",
       "<style scoped>\n",
       "    .dataframe tbody tr th:only-of-type {\n",
       "        vertical-align: middle;\n",
       "    }\n",
       "\n",
       "    .dataframe tbody tr th {\n",
       "        vertical-align: top;\n",
       "    }\n",
       "\n",
       "    .dataframe thead th {\n",
       "        text-align: right;\n",
       "    }\n",
       "</style>\n",
       "<table border=\"1\" class=\"dataframe\">\n",
       "  <thead>\n",
       "    <tr style=\"text-align: right;\">\n",
       "      <th></th>\n",
       "      <th>State</th>\n",
       "      <th>Senator</th>\n",
       "      <th>Party</th>\n",
       "      <th>Assumed office</th>\n",
       "      <th>Born</th>\n",
       "    </tr>\n",
       "  </thead>\n",
       "  <tbody>\n",
       "    <tr>\n",
       "      <th>0</th>\n",
       "      <td>Alabama</td>\n",
       "      <td>Richard Shelby</td>\n",
       "      <td>Republican</td>\n",
       "      <td>1987-01-03</td>\n",
       "      <td>(age 88)</td>\n",
       "    </tr>\n",
       "    <tr>\n",
       "      <th>1</th>\n",
       "      <td>Alabama</td>\n",
       "      <td>Tommy Tuberville</td>\n",
       "      <td>Republican</td>\n",
       "      <td>2021-01-03</td>\n",
       "      <td>(age 68)</td>\n",
       "    </tr>\n",
       "    <tr>\n",
       "      <th>2</th>\n",
       "      <td>Alaska</td>\n",
       "      <td>Lisa Murkowski</td>\n",
       "      <td>Republican</td>\n",
       "      <td>2002-12-20</td>\n",
       "      <td>(age 65)</td>\n",
       "    </tr>\n",
       "  </tbody>\n",
       "</table>\n",
       "</div>"
      ],
      "text/plain": [
       "     State           Senator       Party Assumed office      Born\n",
       "0  Alabama    Richard Shelby  Republican     1987-01-03  (age 88)\n",
       "1  Alabama  Tommy Tuberville  Republican     2021-01-03  (age 68)\n",
       "2   Alaska    Lisa Murkowski  Republican     2002-12-20  (age 65)"
      ]
     },
     "execution_count": 7,
     "metadata": {},
     "output_type": "execute_result"
    }
   ],
   "source": [
    "# Drop seemingly empty columns\n",
    "df_processed = df[['State', 'Senator', 'Party.1', 'Assumed office', 'Born']] \\\n",
    "                 .rename(columns={'Party.1': 'Party'}) \\\n",
    "                 .replace({r'\\[[a-zA-Z]+\\]':'',\n",
    "                           r'\\(DFL\\)': ''}, \n",
    "                          regex=True)\n",
    "df_processed['Assumed office'] = pd.to_datetime(df_processed['Assumed office'],\n",
    "                                                format='%B %d, %Y',\n",
    "                                                errors='ignore')\n",
    "df_processed.head(3)"
   ]
  },
  {
   "cell_type": "markdown",
   "metadata": {},
   "source": [
    "Just for fun let's break down how long senators have been serving by number of years"
   ]
  },
  {
   "cell_type": "code",
   "execution_count": 8,
   "metadata": {},
   "outputs": [],
   "source": [
    "# Get their age\n",
    "df_processed['age'] = df_processed.Born.map(lambda x: int(re.search(r'\\(age\\s([0-9]{2})\\)', x).group(1)))\n",
    "df_processed = df_processed.drop(columns='Born')"
   ]
  },
  {
   "cell_type": "code",
   "execution_count": 9,
   "metadata": {},
   "outputs": [
    {
     "data": {
      "text/html": [
       "<div>\n",
       "<style scoped>\n",
       "    .dataframe tbody tr th:only-of-type {\n",
       "        vertical-align: middle;\n",
       "    }\n",
       "\n",
       "    .dataframe tbody tr th {\n",
       "        vertical-align: top;\n",
       "    }\n",
       "\n",
       "    .dataframe thead th {\n",
       "        text-align: right;\n",
       "    }\n",
       "</style>\n",
       "<table border=\"1\" class=\"dataframe\">\n",
       "  <thead>\n",
       "    <tr style=\"text-align: right;\">\n",
       "      <th></th>\n",
       "      <th>State</th>\n",
       "      <th>Senator</th>\n",
       "      <th>Party</th>\n",
       "      <th>Assumed office</th>\n",
       "      <th>age</th>\n",
       "      <th>Years in Office</th>\n",
       "    </tr>\n",
       "  </thead>\n",
       "  <tbody>\n",
       "    <tr>\n",
       "      <th>88</th>\n",
       "      <td>Vermont</td>\n",
       "      <td>Patrick Leahy</td>\n",
       "      <td>Democratic</td>\n",
       "      <td>1975-01-03</td>\n",
       "      <td>82</td>\n",
       "      <td>47.858614</td>\n",
       "    </tr>\n",
       "    <tr>\n",
       "      <th>28</th>\n",
       "      <td>Iowa</td>\n",
       "      <td>Chuck Grassley</td>\n",
       "      <td>Republican</td>\n",
       "      <td>1981-01-03</td>\n",
       "      <td>89</td>\n",
       "      <td>41.857122</td>\n",
       "    </tr>\n",
       "    <tr>\n",
       "      <th>32</th>\n",
       "      <td>Kentucky</td>\n",
       "      <td>Mitch McConnell</td>\n",
       "      <td>Republican</td>\n",
       "      <td>1985-01-03</td>\n",
       "      <td>80</td>\n",
       "      <td>37.857040</td>\n",
       "    </tr>\n",
       "    <tr>\n",
       "      <th>0</th>\n",
       "      <td>Alabama</td>\n",
       "      <td>Richard Shelby</td>\n",
       "      <td>Republican</td>\n",
       "      <td>1987-01-03</td>\n",
       "      <td>88</td>\n",
       "      <td>35.858368</td>\n",
       "    </tr>\n",
       "    <tr>\n",
       "      <th>8</th>\n",
       "      <td>California</td>\n",
       "      <td>Dianne Feinstein</td>\n",
       "      <td>Democratic</td>\n",
       "      <td>1992-11-10</td>\n",
       "      <td>89</td>\n",
       "      <td>30.004723</td>\n",
       "    </tr>\n",
       "    <tr>\n",
       "      <th>...</th>\n",
       "      <td>...</td>\n",
       "      <td>...</td>\n",
       "      <td>...</td>\n",
       "      <td>...</td>\n",
       "      <td>...</td>\n",
       "      <td>...</td>\n",
       "    </tr>\n",
       "    <tr>\n",
       "      <th>1</th>\n",
       "      <td>Alabama</td>\n",
       "      <td>Tommy Tuberville</td>\n",
       "      <td>Republican</td>\n",
       "      <td>2021-01-03</td>\n",
       "      <td>68</td>\n",
       "      <td>1.856301</td>\n",
       "    </tr>\n",
       "    <tr>\n",
       "      <th>31</th>\n",
       "      <td>Kansas</td>\n",
       "      <td>Roger Marshall</td>\n",
       "      <td>Republican</td>\n",
       "      <td>2021-01-03</td>\n",
       "      <td>62</td>\n",
       "      <td>1.856301</td>\n",
       "    </tr>\n",
       "    <tr>\n",
       "      <th>9</th>\n",
       "      <td>California</td>\n",
       "      <td>Alex Padilla</td>\n",
       "      <td>Democratic</td>\n",
       "      <td>2021-01-20</td>\n",
       "      <td>49</td>\n",
       "      <td>1.809757</td>\n",
       "    </tr>\n",
       "    <tr>\n",
       "      <th>19</th>\n",
       "      <td>Georgia</td>\n",
       "      <td>Raphael Warnock</td>\n",
       "      <td>Democratic</td>\n",
       "      <td>2021-01-20</td>\n",
       "      <td>53</td>\n",
       "      <td>1.809757</td>\n",
       "    </tr>\n",
       "    <tr>\n",
       "      <th>18</th>\n",
       "      <td>Georgia</td>\n",
       "      <td>Jon Ossoff</td>\n",
       "      <td>Democratic</td>\n",
       "      <td>2021-01-20</td>\n",
       "      <td>35</td>\n",
       "      <td>1.809757</td>\n",
       "    </tr>\n",
       "  </tbody>\n",
       "</table>\n",
       "<p>100 rows × 6 columns</p>\n",
       "</div>"
      ],
      "text/plain": [
       "         State           Senator       Party Assumed office  age  \\\n",
       "88     Vermont     Patrick Leahy  Democratic     1975-01-03   82   \n",
       "28        Iowa    Chuck Grassley  Republican     1981-01-03   89   \n",
       "32    Kentucky   Mitch McConnell  Republican     1985-01-03   80   \n",
       "0      Alabama    Richard Shelby  Republican     1987-01-03   88   \n",
       "8   California  Dianne Feinstein  Democratic     1992-11-10   89   \n",
       "..         ...               ...         ...            ...  ...   \n",
       "1      Alabama  Tommy Tuberville  Republican     2021-01-03   68   \n",
       "31      Kansas    Roger Marshall  Republican     2021-01-03   62   \n",
       "9   California      Alex Padilla  Democratic     2021-01-20   49   \n",
       "19     Georgia   Raphael Warnock  Democratic     2021-01-20   53   \n",
       "18     Georgia        Jon Ossoff  Democratic     2021-01-20   35   \n",
       "\n",
       "    Years in Office  \n",
       "88        47.858614  \n",
       "28        41.857122  \n",
       "32        37.857040  \n",
       "0         35.858368  \n",
       "8         30.004723  \n",
       "..              ...  \n",
       "1          1.856301  \n",
       "31         1.856301  \n",
       "9          1.809757  \n",
       "19         1.809757  \n",
       "18         1.809757  \n",
       "\n",
       "[100 rows x 6 columns]"
      ]
     },
     "execution_count": 9,
     "metadata": {},
     "output_type": "execute_result"
    }
   ],
   "source": [
    "# Compute delta-years\n",
    "df_processed['Years in Office'] = (dt.datetime.now() - df_processed['Assumed office']).dt.days / 365.2425\n",
    "df_processed.sort_values('Years in Office', ascending=False)"
   ]
  },
  {
   "cell_type": "code",
   "execution_count": 10,
   "metadata": {},
   "outputs": [
    {
     "data": {
      "text/plain": [
       "[Text(0.5, 1.0, 'Senators by Years in Office')]"
      ]
     },
     "execution_count": 10,
     "metadata": {},
     "output_type": "execute_result"
    },
    {
     "data": {
      "image/png": "[encoded data removed]",
      "text/plain": [
       "<Figure size 640x480 with 1 Axes>"
      ]
     },
     "metadata": {},
     "output_type": "display_data"
    }
   ],
   "source": [
    "# Plot it up!\n",
    "sns.histplot(data=df_processed, \n",
    "             x=\"Years in Office\", \n",
    "             hue='Party',\n",
    "            #  kde=True,\n",
    "             multiple='stack',\n",
    "             bins = range(0,50,2),\n",
    "             palette={\n",
    "                'Republican': 'tab:red',\n",
    "                'Democratic': 'tab:blue',\n",
    "                'Independent': 'tab:green'\n",
    "             }) \\\n",
    "   .set(title='Senators by Years in Office')"
   ]
  },
  {
   "cell_type": "code",
   "execution_count": 11,
   "metadata": {},
   "outputs": [
    {
     "data": {
      "text/html": [
       "<div>\n",
       "<style scoped>\n",
       "    .dataframe tbody tr th:only-of-type {\n",
       "        vertical-align: middle;\n",
       "    }\n",
       "\n",
       "    .dataframe tbody tr th {\n",
       "        vertical-align: top;\n",
       "    }\n",
       "\n",
       "    .dataframe thead th {\n",
       "        text-align: right;\n",
       "    }\n",
       "</style>\n",
       "<table border=\"1\" class=\"dataframe\">\n",
       "  <thead>\n",
       "    <tr style=\"text-align: right;\">\n",
       "      <th></th>\n",
       "      <th>State</th>\n",
       "      <th>Senator</th>\n",
       "      <th>Party</th>\n",
       "      <th>Assumed office</th>\n",
       "      <th>age</th>\n",
       "      <th>Years in Office</th>\n",
       "    </tr>\n",
       "  </thead>\n",
       "  <tbody>\n",
       "    <tr>\n",
       "      <th>88</th>\n",
       "      <td>Vermont</td>\n",
       "      <td>Patrick Leahy</td>\n",
       "      <td>Democratic</td>\n",
       "      <td>1975-01-03</td>\n",
       "      <td>82</td>\n",
       "      <td>47.858614</td>\n",
       "    </tr>\n",
       "    <tr>\n",
       "      <th>28</th>\n",
       "      <td>Iowa</td>\n",
       "      <td>Chuck Grassley</td>\n",
       "      <td>Republican</td>\n",
       "      <td>1981-01-03</td>\n",
       "      <td>89</td>\n",
       "      <td>41.857122</td>\n",
       "    </tr>\n",
       "    <tr>\n",
       "      <th>32</th>\n",
       "      <td>Kentucky</td>\n",
       "      <td>Mitch McConnell</td>\n",
       "      <td>Republican</td>\n",
       "      <td>1985-01-03</td>\n",
       "      <td>80</td>\n",
       "      <td>37.857040</td>\n",
       "    </tr>\n",
       "    <tr>\n",
       "      <th>0</th>\n",
       "      <td>Alabama</td>\n",
       "      <td>Richard Shelby</td>\n",
       "      <td>Republican</td>\n",
       "      <td>1987-01-03</td>\n",
       "      <td>88</td>\n",
       "      <td>35.858368</td>\n",
       "    </tr>\n",
       "    <tr>\n",
       "      <th>8</th>\n",
       "      <td>California</td>\n",
       "      <td>Dianne Feinstein</td>\n",
       "      <td>Democratic</td>\n",
       "      <td>1992-11-10</td>\n",
       "      <td>89</td>\n",
       "      <td>30.004723</td>\n",
       "    </tr>\n",
       "  </tbody>\n",
       "</table>\n",
       "</div>"
      ],
      "text/plain": [
       "         State           Senator       Party Assumed office  age  \\\n",
       "88     Vermont     Patrick Leahy  Democratic     1975-01-03   82   \n",
       "28        Iowa    Chuck Grassley  Republican     1981-01-03   89   \n",
       "32    Kentucky   Mitch McConnell  Republican     1985-01-03   80   \n",
       "0      Alabama    Richard Shelby  Republican     1987-01-03   88   \n",
       "8   California  Dianne Feinstein  Democratic     1992-11-10   89   \n",
       "\n",
       "    Years in Office  \n",
       "88        47.858614  \n",
       "28        41.857122  \n",
       "32        37.857040  \n",
       "0         35.858368  \n",
       "8         30.004723  "
      ]
     },
     "execution_count": 11,
     "metadata": {},
     "output_type": "execute_result"
    }
   ],
   "source": [
    "# 5 longest serving senators:\n",
    "df_processed.sort_values('Years in Office', ascending=False).iloc[:5]"
   ]
  },
  {
   "cell_type": "markdown",
   "metadata": {},
   "source": [
    "OK, let's do what we came here to do"
   ]
  },
  {
   "cell_type": "code",
   "execution_count": 12,
   "metadata": {},
   "outputs": [
    {
     "data": {
      "text/html": [
       "<div>\n",
       "<style scoped>\n",
       "    .dataframe tbody tr th:only-of-type {\n",
       "        vertical-align: middle;\n",
       "    }\n",
       "\n",
       "    .dataframe tbody tr th {\n",
       "        vertical-align: top;\n",
       "    }\n",
       "\n",
       "    .dataframe thead th {\n",
       "        text-align: right;\n",
       "    }\n",
       "</style>\n",
       "<table border=\"1\" class=\"dataframe\">\n",
       "  <thead>\n",
       "    <tr style=\"text-align: right;\">\n",
       "      <th></th>\n",
       "      <th>State</th>\n",
       "      <th>Senator</th>\n",
       "      <th>Party</th>\n",
       "      <th>Assumed office</th>\n",
       "      <th>age</th>\n",
       "      <th>Years in Office</th>\n",
       "      <th>is match</th>\n",
       "    </tr>\n",
       "  </thead>\n",
       "  <tbody>\n",
       "    <tr>\n",
       "      <th>6</th>\n",
       "      <td>Arkansas</td>\n",
       "      <td>John Boozman</td>\n",
       "      <td>Republican</td>\n",
       "      <td>2011-01-03</td>\n",
       "      <td>71</td>\n",
       "      <td>11.857875</td>\n",
       "      <td>True</td>\n",
       "    </tr>\n",
       "    <tr>\n",
       "      <th>11</th>\n",
       "      <td>Colorado</td>\n",
       "      <td>John Hickenlooper</td>\n",
       "      <td>Democratic</td>\n",
       "      <td>2021-01-03</td>\n",
       "      <td>70</td>\n",
       "      <td>1.856301</td>\n",
       "      <td>True</td>\n",
       "    </tr>\n",
       "    <tr>\n",
       "      <th>18</th>\n",
       "      <td>Georgia</td>\n",
       "      <td>Jon Ossoff</td>\n",
       "      <td>Democratic</td>\n",
       "      <td>2021-01-20</td>\n",
       "      <td>35</td>\n",
       "      <td>1.809757</td>\n",
       "      <td>True</td>\n",
       "    </tr>\n",
       "    <tr>\n",
       "      <th>29</th>\n",
       "      <td>Iowa</td>\n",
       "      <td>Joni Ernst</td>\n",
       "      <td>Republican</td>\n",
       "      <td>2015-01-03</td>\n",
       "      <td>52</td>\n",
       "      <td>7.857793</td>\n",
       "      <td>True</td>\n",
       "    </tr>\n",
       "    <tr>\n",
       "      <th>35</th>\n",
       "      <td>Louisiana</td>\n",
       "      <td>John Kennedy</td>\n",
       "      <td>Republican</td>\n",
       "      <td>2017-01-03</td>\n",
       "      <td>70</td>\n",
       "      <td>5.856383</td>\n",
       "      <td>True</td>\n",
       "    </tr>\n",
       "    <tr>\n",
       "      <th>50</th>\n",
       "      <td>Montana</td>\n",
       "      <td>Jon Tester</td>\n",
       "      <td>Democratic</td>\n",
       "      <td>2007-01-03</td>\n",
       "      <td>66</td>\n",
       "      <td>15.857957</td>\n",
       "      <td>True</td>\n",
       "    </tr>\n",
       "    <tr>\n",
       "      <th>66</th>\n",
       "      <td>North Dakota</td>\n",
       "      <td>John Hoeven</td>\n",
       "      <td>Republican</td>\n",
       "      <td>2011-01-03</td>\n",
       "      <td>65</td>\n",
       "      <td>11.857875</td>\n",
       "      <td>True</td>\n",
       "    </tr>\n",
       "    <tr>\n",
       "      <th>80</th>\n",
       "      <td>South Dakota</td>\n",
       "      <td>John Thune</td>\n",
       "      <td>Republican</td>\n",
       "      <td>2005-01-03</td>\n",
       "      <td>61</td>\n",
       "      <td>17.856629</td>\n",
       "      <td>True</td>\n",
       "    </tr>\n",
       "    <tr>\n",
       "      <th>84</th>\n",
       "      <td>Texas</td>\n",
       "      <td>John Cornyn</td>\n",
       "      <td>Republican</td>\n",
       "      <td>2002-12-02</td>\n",
       "      <td>70</td>\n",
       "      <td>19.945653</td>\n",
       "      <td>True</td>\n",
       "    </tr>\n",
       "    <tr>\n",
       "      <th>98</th>\n",
       "      <td>Wyoming</td>\n",
       "      <td>John Barrasso</td>\n",
       "      <td>Republican</td>\n",
       "      <td>2007-06-25</td>\n",
       "      <td>70</td>\n",
       "      <td>15.384299</td>\n",
       "      <td>True</td>\n",
       "    </tr>\n",
       "  </tbody>\n",
       "</table>\n",
       "</div>"
      ],
      "text/plain": [
       "           State            Senator       Party Assumed office  age  \\\n",
       "6       Arkansas       John Boozman  Republican     2011-01-03   71   \n",
       "11      Colorado  John Hickenlooper  Democratic     2021-01-03   70   \n",
       "18       Georgia         Jon Ossoff  Democratic     2021-01-20   35   \n",
       "29          Iowa         Joni Ernst  Republican     2015-01-03   52   \n",
       "35     Louisiana       John Kennedy  Republican     2017-01-03   70   \n",
       "50       Montana         Jon Tester  Democratic     2007-01-03   66   \n",
       "66  North Dakota        John Hoeven  Republican     2011-01-03   65   \n",
       "80  South Dakota         John Thune  Republican     2005-01-03   61   \n",
       "84         Texas        John Cornyn  Republican     2002-12-02   70   \n",
       "98       Wyoming      John Barrasso  Republican     2007-06-25   70   \n",
       "\n",
       "    Years in Office  is match  \n",
       "6         11.857875      True  \n",
       "11         1.856301      True  \n",
       "18         1.809757      True  \n",
       "29         7.857793      True  \n",
       "35         5.856383      True  \n",
       "50        15.857957      True  \n",
       "66        11.857875      True  \n",
       "80        17.856629      True  \n",
       "84        19.945653      True  \n",
       "98        15.384299      True  "
      ]
     },
     "execution_count": 12,
     "metadata": {},
     "output_type": "execute_result"
    }
   ],
   "source": [
    "match_str = r'(Jon|John)'\n",
    "df_processed['is match'] = df_processed.Senator.map(lambda x: re.match(match_str, x) is not None)\n",
    "df_processed[df_processed['is match']]"
   ]
  },
  {
   "cell_type": "code",
   "execution_count": 13,
   "metadata": {},
   "outputs": [
    {
     "data": {
      "text/plain": [
       "[Text(0.5, 1.0, 'Johns in the Senate by Years in Office')]"
      ]
     },
     "execution_count": 13,
     "metadata": {},
     "output_type": "execute_result"
    },
    {
     "data": {
      "image/png": "[encoded data removed]",
      "text/plain": [
       "<Figure size 640x480 with 1 Axes>"
      ]
     },
     "metadata": {},
     "output_type": "display_data"
    }
   ],
   "source": [
    "sns.histplot(data=df_processed[df_processed['is match']], \n",
    "             x=\"Years in Office\", \n",
    "             hue='Party',\n",
    "            #  kde=True,\n",
    "             multiple='stack',\n",
    "             bins = range(0,50,2),\n",
    "             palette={\n",
    "                'Republican': 'tab:red',\n",
    "                'Democratic': 'tab:blue',\n",
    "                'Independent': 'tab:green'\n",
    "             }) \\\n",
    "   .set(title='Johns in the Senate by Years in Office')"
   ]
  },
  {
   "cell_type": "code",
   "execution_count": 14,
   "metadata": {},
   "outputs": [
    {
     "data": {
      "text/plain": [
       "[Text(0.5, 1.0, 'Johns in the Senate by Age')]"
      ]
     },
     "execution_count": 14,
     "metadata": {},
     "output_type": "execute_result"
    },
    {
     "data": {
      "image/png": "[encoded data removed]",
      "text/plain": [
       "<Figure size 640x480 with 1 Axes>"
      ]
     },
     "metadata": {},
     "output_type": "display_data"
    }
   ],
   "source": [
    "# How old are the Jo(h)n(i)s?\n",
    "sns.histplot(data=df_processed[df_processed['is match']], \n",
    "             x=\"age\", \n",
    "             hue='Party',\n",
    "            #  kde=True,\n",
    "             multiple='stack',\n",
    "             bins = range(20,100,5),\n",
    "             palette={\n",
    "                'Republican': 'tab:red',\n",
    "                'Democratic': 'tab:blue',\n",
    "                'Independent': 'tab:green'\n",
    "             }) \\\n",
    "   .set(title='Johns in the Senate by Age')"
   ]
  },
  {
   "cell_type": "code",
   "execution_count": 15,
   "metadata": {},
   "outputs": [],
   "source": [
    "# Join the postal abbreviation to the actual state names\n",
    "postal = pd.read_csv('../../data/state_abbrv.csv', usecols=[0,1])\n",
    "df_processed = df_processed.merge(postal, left_on='State', right_on='US STATE')"
   ]
  },
  {
   "cell_type": "code",
   "execution_count": 16,
   "metadata": {},
   "outputs": [
    {
     "data": {
      "text/html": [
       "<div>\n",
       "<style scoped>\n",
       "    .dataframe tbody tr th:only-of-type {\n",
       "        vertical-align: middle;\n",
       "    }\n",
       "\n",
       "    .dataframe tbody tr th {\n",
       "        vertical-align: top;\n",
       "    }\n",
       "\n",
       "    .dataframe thead th {\n",
       "        text-align: right;\n",
       "    }\n",
       "</style>\n",
       "<table border=\"1\" class=\"dataframe\">\n",
       "  <thead>\n",
       "    <tr style=\"text-align: right;\">\n",
       "      <th></th>\n",
       "      <th>State</th>\n",
       "      <th>Senator</th>\n",
       "      <th>Party</th>\n",
       "      <th>Assumed office</th>\n",
       "      <th>age</th>\n",
       "      <th>Years in Office</th>\n",
       "      <th>is match</th>\n",
       "      <th>US STATE</th>\n",
       "      <th>POSTAL ABBREVIATION</th>\n",
       "    </tr>\n",
       "  </thead>\n",
       "  <tbody>\n",
       "    <tr>\n",
       "      <th>0</th>\n",
       "      <td>Alabama</td>\n",
       "      <td>Richard Shelby</td>\n",
       "      <td>Republican</td>\n",
       "      <td>1987-01-03</td>\n",
       "      <td>88</td>\n",
       "      <td>35.858368</td>\n",
       "      <td>False</td>\n",
       "      <td>Alabama</td>\n",
       "      <td>AL</td>\n",
       "    </tr>\n",
       "    <tr>\n",
       "      <th>1</th>\n",
       "      <td>Alabama</td>\n",
       "      <td>Tommy Tuberville</td>\n",
       "      <td>Republican</td>\n",
       "      <td>2021-01-03</td>\n",
       "      <td>68</td>\n",
       "      <td>1.856301</td>\n",
       "      <td>False</td>\n",
       "      <td>Alabama</td>\n",
       "      <td>AL</td>\n",
       "    </tr>\n",
       "    <tr>\n",
       "      <th>2</th>\n",
       "      <td>Alaska</td>\n",
       "      <td>Lisa Murkowski</td>\n",
       "      <td>Republican</td>\n",
       "      <td>2002-12-20</td>\n",
       "      <td>65</td>\n",
       "      <td>19.896370</td>\n",
       "      <td>False</td>\n",
       "      <td>Alaska</td>\n",
       "      <td>AK</td>\n",
       "    </tr>\n",
       "    <tr>\n",
       "      <th>3</th>\n",
       "      <td>Alaska</td>\n",
       "      <td>Dan Sullivan</td>\n",
       "      <td>Republican</td>\n",
       "      <td>2015-01-03</td>\n",
       "      <td>58</td>\n",
       "      <td>7.857793</td>\n",
       "      <td>False</td>\n",
       "      <td>Alaska</td>\n",
       "      <td>AK</td>\n",
       "    </tr>\n",
       "    <tr>\n",
       "      <th>4</th>\n",
       "      <td>Arizona</td>\n",
       "      <td>Kyrsten Sinema</td>\n",
       "      <td>Democratic</td>\n",
       "      <td>2019-01-03</td>\n",
       "      <td>46</td>\n",
       "      <td>3.857711</td>\n",
       "      <td>False</td>\n",
       "      <td>Arizona</td>\n",
       "      <td>AZ</td>\n",
       "    </tr>\n",
       "    <tr>\n",
       "      <th>...</th>\n",
       "      <td>...</td>\n",
       "      <td>...</td>\n",
       "      <td>...</td>\n",
       "      <td>...</td>\n",
       "      <td>...</td>\n",
       "      <td>...</td>\n",
       "      <td>...</td>\n",
       "      <td>...</td>\n",
       "      <td>...</td>\n",
       "    </tr>\n",
       "    <tr>\n",
       "      <th>95</th>\n",
       "      <td>West Virginia</td>\n",
       "      <td>Shelley Moore Capito</td>\n",
       "      <td>Republican</td>\n",
       "      <td>2015-01-03</td>\n",
       "      <td>68</td>\n",
       "      <td>7.857793</td>\n",
       "      <td>False</td>\n",
       "      <td>West Virginia</td>\n",
       "      <td>WV</td>\n",
       "    </tr>\n",
       "    <tr>\n",
       "      <th>96</th>\n",
       "      <td>Wisconsin</td>\n",
       "      <td>Ron Johnson</td>\n",
       "      <td>Republican</td>\n",
       "      <td>2011-01-03</td>\n",
       "      <td>67</td>\n",
       "      <td>11.857875</td>\n",
       "      <td>False</td>\n",
       "      <td>Wisconsin</td>\n",
       "      <td>WI</td>\n",
       "    </tr>\n",
       "    <tr>\n",
       "      <th>97</th>\n",
       "      <td>Wisconsin</td>\n",
       "      <td>Tammy Baldwin</td>\n",
       "      <td>Democratic</td>\n",
       "      <td>2013-01-03</td>\n",
       "      <td>60</td>\n",
       "      <td>9.856465</td>\n",
       "      <td>False</td>\n",
       "      <td>Wisconsin</td>\n",
       "      <td>WI</td>\n",
       "    </tr>\n",
       "    <tr>\n",
       "      <th>98</th>\n",
       "      <td>Wyoming</td>\n",
       "      <td>John Barrasso</td>\n",
       "      <td>Republican</td>\n",
       "      <td>2007-06-25</td>\n",
       "      <td>70</td>\n",
       "      <td>15.384299</td>\n",
       "      <td>True</td>\n",
       "      <td>Wyoming</td>\n",
       "      <td>WY</td>\n",
       "    </tr>\n",
       "    <tr>\n",
       "      <th>99</th>\n",
       "      <td>Wyoming</td>\n",
       "      <td>Cynthia Lummis</td>\n",
       "      <td>Republican</td>\n",
       "      <td>2021-01-03</td>\n",
       "      <td>68</td>\n",
       "      <td>1.856301</td>\n",
       "      <td>False</td>\n",
       "      <td>Wyoming</td>\n",
       "      <td>WY</td>\n",
       "    </tr>\n",
       "  </tbody>\n",
       "</table>\n",
       "<p>100 rows × 9 columns</p>\n",
       "</div>"
      ],
      "text/plain": [
       "            State               Senator       Party Assumed office  age  \\\n",
       "0         Alabama        Richard Shelby  Republican     1987-01-03   88   \n",
       "1         Alabama      Tommy Tuberville  Republican     2021-01-03   68   \n",
       "2          Alaska        Lisa Murkowski  Republican     2002-12-20   65   \n",
       "3          Alaska          Dan Sullivan  Republican     2015-01-03   58   \n",
       "4         Arizona        Kyrsten Sinema  Democratic     2019-01-03   46   \n",
       "..            ...                   ...         ...            ...  ...   \n",
       "95  West Virginia  Shelley Moore Capito  Republican     2015-01-03   68   \n",
       "96      Wisconsin           Ron Johnson  Republican     2011-01-03   67   \n",
       "97      Wisconsin         Tammy Baldwin  Democratic     2013-01-03   60   \n",
       "98        Wyoming         John Barrasso  Republican     2007-06-25   70   \n",
       "99        Wyoming        Cynthia Lummis  Republican     2021-01-03   68   \n",
       "\n",
       "    Years in Office  is match       US STATE POSTAL ABBREVIATION  \n",
       "0         35.858368     False        Alabama                  AL  \n",
       "1          1.856301     False        Alabama                  AL  \n",
       "2         19.896370     False         Alaska                  AK  \n",
       "3          7.857793     False         Alaska                  AK  \n",
       "4          3.857711     False        Arizona                  AZ  \n",
       "..              ...       ...            ...                 ...  \n",
       "95         7.857793     False  West Virginia                  WV  \n",
       "96        11.857875     False      Wisconsin                  WI  \n",
       "97         9.856465     False      Wisconsin                  WI  \n",
       "98        15.384299      True        Wyoming                  WY  \n",
       "99         1.856301     False        Wyoming                  WY  \n",
       "\n",
       "[100 rows x 9 columns]"
      ]
     },
     "execution_count": 16,
     "metadata": {},
     "output_type": "execute_result"
    }
   ],
   "source": [
    "df_processed"
   ]
  },
  {
   "cell_type": "code",
   "execution_count": 17,
   "metadata": {},
   "outputs": [
    {
     "data": {
      "application/vnd.plotly.v1+json": {
       "config": {
        "plotlyServerURL": "https://plot.ly"
       },
       "data": [
        {
         "colorscale": [
          [
           0,
           "#636efa"
          ],
          [
           1,
           "#636efa"
          ]
         ],
         "geo": "geo",
         "hovertemplate": "Has a Jo(h)n=True<br>POSTAL ABBREVIATION=%{location}<extra></extra>",
         "locationmode": "USA-states",
         "locations": [
          "AR",
          "CO",
          "GA",
          "IA",
          "LA",
          "MT",
          "ND",
          "SD",
          "TX",
          "WY"
         ],
         "name": "True",
         "showlegend": true,
         "showscale": false,
         "type": "choropleth",
         "z": [
          1,
          1,
          1,
          1,
          1,
          1,
          1,
          1,
          1,
          1
         ]
        }
       ],
       "layout": {
        "geo": {
         "center": {},
         "domain": {
          "x": [
           0,
           1
          ],
          "y": [
           0,
           1
          ]
         },
         "scope": "usa"
        },
        "legend": {
         "title": {
          "text": "Has a Jo(h)n"
         },
         "tracegroupgap": 0
        },
        "margin": {
         "b": 0,
         "l": 0,
         "r": 0,
         "t": 40
        },
        "template": {
         "data": {
          "bar": [
           {
            "error_x": {
             "color": "#2a3f5f"
            },
            "error_y": {
             "color": "#2a3f5f"
            },
            "marker": {
             "line": {
              "color": "#E5ECF6",
              "width": 0.5
             },
             "pattern": {
              "fillmode": "overlay",
              "size": 10,
              "solidity": 0.2
             }
            },
            "type": "bar"
           }
          ],
          "barpolar": [
           {
            "marker": {
             "line": {
              "color": "#E5ECF6",
              "width": 0.5
             },
             "pattern": {
              "fillmode": "overlay",
              "size": 10,
              "solidity": 0.2
             }
            },
            "type": "barpolar"
           }
          ],
          "carpet": [
           {
            "aaxis": {
             "endlinecolor": "#2a3f5f",
             "gridcolor": "white",
             "linecolor": "white",
             "minorgridcolor": "white",
             "startlinecolor": "#2a3f5f"
            },
            "baxis": {
             "endlinecolor": "#2a3f5f",
             "gridcolor": "white",
             "linecolor": "white",
             "minorgridcolor": "white",
             "startlinecolor": "#2a3f5f"
            },
            "type": "carpet"
           }
          ],
          "choropleth": [
           {
            "colorbar": {
             "outlinewidth": 0,
             "ticks": ""
            },
            "type": "choropleth"
           }
          ],
          "contour": [
           {
            "colorbar": {
             "outlinewidth": 0,
             "ticks": ""
            },
            "colorscale": [
             [
              0,
              "#0d0887"
             ],
             [
              0.1111111111111111,
              "#46039f"
             ],
             [
              0.2222222222222222,
              "#7201a8"
             ],
             [
              0.3333333333333333,
              "#9c179e"
             ],
             [
              0.4444444444444444,
              "#bd3786"
             ],
             [
              0.5555555555555556,
              "#d8576b"
             ],
             [
              0.6666666666666666,
              "#ed7953"
             ],
             [
              0.7777777777777778,
              "#fb9f3a"
             ],
             [
              0.8888888888888888,
              "#fdca26"
             ],
             [
              1,
              "#f0f921"
             ]
            ],
            "type": "contour"
           }
          ],
          "contourcarpet": [
           {
            "colorbar": {
             "outlinewidth": 0,
             "ticks": ""
            },
            "type": "contourcarpet"
           }
          ],
          "heatmap": [
           {
            "colorbar": {
             "outlinewidth": 0,
             "ticks": ""
            },
            "colorscale": [
             [
              0,
              "#0d0887"
             ],
             [
              0.1111111111111111,
              "#46039f"
             ],
             [
              0.2222222222222222,
              "#7201a8"
             ],
             [
              0.3333333333333333,
              "#9c179e"
             ],
             [
              0.4444444444444444,
              "#bd3786"
             ],
             [
              0.5555555555555556,
              "#d8576b"
             ],
             [
              0.6666666666666666,
              "#ed7953"
             ],
             [
              0.7777777777777778,
              "#fb9f3a"
             ],
             [
              0.8888888888888888,
              "#fdca26"
             ],
             [
              1,
              "#f0f921"
             ]
            ],
            "type": "heatmap"
           }
          ],
          "heatmapgl": [
           {
            "colorbar": {
             "outlinewidth": 0,
             "ticks": ""
            },
            "colorscale": [
             [
              0,
              "#0d0887"
             ],
             [
              0.1111111111111111,
              "#46039f"
             ],
             [
              0.2222222222222222,
              "#7201a8"
             ],
             [
              0.3333333333333333,
              "#9c179e"
             ],
             [
              0.4444444444444444,
              "#bd3786"
             ],
             [
              0.5555555555555556,
              "#d8576b"
             ],
             [
              0.6666666666666666,
              "#ed7953"
             ],
             [
              0.7777777777777778,
              "#fb9f3a"
             ],
             [
              0.8888888888888888,
              "#fdca26"
             ],
             [
              1,
              "#f0f921"
             ]
            ],
            "type": "heatmapgl"
           }
          ],
          "histogram": [
           {
            "marker": {
             "pattern": {
              "fillmode": "overlay",
              "size": 10,
              "solidity": 0.2
             }
            },
            "type": "histogram"
           }
          ],
          "histogram2d": [
           {
            "colorbar": {
             "outlinewidth": 0,
             "ticks": ""
            },
            "colorscale": [
             [
              0,
              "#0d0887"
             ],
             [
              0.1111111111111111,
              "#46039f"
             ],
             [
              0.2222222222222222,
              "#7201a8"
             ],
             [
              0.3333333333333333,
              "#9c179e"
             ],
             [
              0.4444444444444444,
              "#bd3786"
             ],
             [
              0.5555555555555556,
              "#d8576b"
             ],
             [
              0.6666666666666666,
              "#ed7953"
             ],
             [
              0.7777777777777778,
              "#fb9f3a"
             ],
             [
              0.8888888888888888,
              "#fdca26"
             ],
             [
              1,
              "#f0f921"
             ]
            ],
            "type": "histogram2d"
           }
          ],
          "histogram2dcontour": [
           {
            "colorbar": {
             "outlinewidth": 0,
             "ticks": ""
            },
            "colorscale": [
             [
              0,
              "#0d0887"
             ],
             [
              0.1111111111111111,
              "#46039f"
             ],
             [
              0.2222222222222222,
              "#7201a8"
             ],
             [
              0.3333333333333333,
              "#9c179e"
             ],
             [
              0.4444444444444444,
              "#bd3786"
             ],
             [
              0.5555555555555556,
              "#d8576b"
             ],
             [
              0.6666666666666666,
              "#ed7953"
             ],
             [
              0.7777777777777778,
              "#fb9f3a"
             ],
             [
              0.8888888888888888,
              "#fdca26"
             ],
             [
              1,
              "#f0f921"
             ]
            ],
            "type": "histogram2dcontour"
           }
          ],
          "mesh3d": [
           {
            "colorbar": {
             "outlinewidth": 0,
             "ticks": ""
            },
            "type": "mesh3d"
           }
          ],
          "parcoords": [
           {
            "line": {
             "colorbar": {
              "outlinewidth": 0,
              "ticks": ""
             }
            },
            "type": "parcoords"
           }
          ],
          "pie": [
           {
            "automargin": true,
            "type": "pie"
           }
          ],
          "scatter": [
           {
            "fillpattern": {
             "fillmode": "overlay",
             "size": 10,
             "solidity": 0.2
            },
            "type": "scatter"
           }
          ],
          "scatter3d": [
           {
            "line": {
             "colorbar": {
              "outlinewidth": 0,
              "ticks": ""
             }
            },
            "marker": {
             "colorbar": {
              "outlinewidth": 0,
              "ticks": ""
             }
            },
            "type": "scatter3d"
           }
          ],
          "scattercarpet": [
           {
            "marker": {
             "colorbar": {
              "outlinewidth": 0,
              "ticks": ""
             }
            },
            "type": "scattercarpet"
           }
          ],
          "scattergeo": [
           {
            "marker": {
             "colorbar": {
              "outlinewidth": 0,
              "ticks": ""
             }
            },
            "type": "scattergeo"
           }
          ],
          "scattergl": [
           {
            "marker": {
             "colorbar": {
              "outlinewidth": 0,
              "ticks": ""
             }
            },
            "type": "scattergl"
           }
          ],
          "scattermapbox": [
           {
            "marker": {
             "colorbar": {
              "outlinewidth": 0,
              "ticks": ""
             }
            },
            "type": "scattermapbox"
           }
          ],
          "scatterpolar": [
           {
            "marker": {
             "colorbar": {
              "outlinewidth": 0,
              "ticks": ""
             }
            },
            "type": "scatterpolar"
           }
          ],
          "scatterpolargl": [
           {
            "marker": {
             "colorbar": {
              "outlinewidth": 0,
              "ticks": ""
             }
            },
            "type": "scatterpolargl"
           }
          ],
          "scatterternary": [
           {
            "marker": {
             "colorbar": {
              "outlinewidth": 0,
              "ticks": ""
             }
            },
            "type": "scatterternary"
           }
          ],
          "surface": [
           {
            "colorbar": {
             "outlinewidth": 0,
             "ticks": ""
            },
            "colorscale": [
             [
              0,
              "#0d0887"
             ],
             [
              0.1111111111111111,
              "#46039f"
             ],
             [
              0.2222222222222222,
              "#7201a8"
             ],
             [
              0.3333333333333333,
              "#9c179e"
             ],
             [
              0.4444444444444444,
              "#bd3786"
             ],
             [
              0.5555555555555556,
              "#d8576b"
             ],
             [
              0.6666666666666666,
              "#ed7953"
             ],
             [
              0.7777777777777778,
              "#fb9f3a"
             ],
             [
              0.8888888888888888,
              "#fdca26"
             ],
             [
              1,
              "#f0f921"
             ]
            ],
            "type": "surface"
           }
          ],
          "table": [
           {
            "cells": {
             "fill": {
              "color": "#EBF0F8"
             },
             "line": {
              "color": "white"
             }
            },
            "header": {
             "fill": {
              "color": "#C8D4E3"
             },
             "line": {
              "color": "white"
             }
            },
            "type": "table"
           }
          ]
         },
         "layout": {
          "annotationdefaults": {
           "arrowcolor": "#2a3f5f",
           "arrowhead": 0,
           "arrowwidth": 1
          },
          "autotypenumbers": "strict",
          "coloraxis": {
           "colorbar": {
            "outlinewidth": 0,
            "ticks": ""
           }
          },
          "colorscale": {
           "diverging": [
            [
             0,
             "#8e0152"
            ],
            [
             0.1,
             "#c51b7d"
            ],
            [
             0.2,
             "#de77ae"
            ],
            [
             0.3,
             "#f1b6da"
            ],
            [
             0.4,
             "#fde0ef"
            ],
            [
             0.5,
             "#f7f7f7"
            ],
            [
             0.6,
             "#e6f5d0"
            ],
            [
             0.7,
             "#b8e186"
            ],
            [
             0.8,
             "#7fbc41"
            ],
            [
             0.9,
             "#4d9221"
            ],
            [
             1,
             "#276419"
            ]
           ],
           "sequential": [
            [
             0,
             "#0d0887"
            ],
            [
             0.1111111111111111,
             "#46039f"
            ],
            [
             0.2222222222222222,
             "#7201a8"
            ],
            [
             0.3333333333333333,
             "#9c179e"
            ],
            [
             0.4444444444444444,
             "#bd3786"
            ],
            [
             0.5555555555555556,
             "#d8576b"
            ],
            [
             0.6666666666666666,
             "#ed7953"
            ],
            [
             0.7777777777777778,
             "#fb9f3a"
            ],
            [
             0.8888888888888888,
             "#fdca26"
            ],
            [
             1,
             "#f0f921"
            ]
           ],
           "sequentialminus": [
            [
             0,
             "#0d0887"
            ],
            [
             0.1111111111111111,
             "#46039f"
            ],
            [
             0.2222222222222222,
             "#7201a8"
            ],
            [
             0.3333333333333333,
             "#9c179e"
            ],
            [
             0.4444444444444444,
             "#bd3786"
            ],
            [
             0.5555555555555556,
             "#d8576b"
            ],
            [
             0.6666666666666666,
             "#ed7953"
            ],
            [
             0.7777777777777778,
             "#fb9f3a"
            ],
            [
             0.8888888888888888,
             "#fdca26"
            ],
            [
             1,
             "#f0f921"
            ]
           ]
          },
          "colorway": [
           "#636efa",
           "#EF553B",
           "#00cc96",
           "#ab63fa",
           "#FFA15A",
           "#19d3f3",
           "#FF6692",
           "#B6E880",
           "#FF97FF",
           "#FECB52"
          ],
          "font": {
           "color": "#2a3f5f"
          },
          "geo": {
           "bgcolor": "white",
           "lakecolor": "white",
           "landcolor": "#E5ECF6",
           "showlakes": true,
           "showland": true,
           "subunitcolor": "white"
          },
          "hoverlabel": {
           "align": "left"
          },
          "hovermode": "closest",
          "mapbox": {
           "style": "light"
          },
          "paper_bgcolor": "white",
          "plot_bgcolor": "#E5ECF6",
          "polar": {
           "angularaxis": {
            "gridcolor": "white",
            "linecolor": "white",
            "ticks": ""
           },
           "bgcolor": "#E5ECF6",
           "radialaxis": {
            "gridcolor": "white",
            "linecolor": "white",
            "ticks": ""
           }
          },
          "scene": {
           "xaxis": {
            "backgroundcolor": "#E5ECF6",
            "gridcolor": "white",
            "gridwidth": 2,
            "linecolor": "white",
            "showbackground": true,
            "ticks": "",
            "zerolinecolor": "white"
           },
           "yaxis": {
            "backgroundcolor": "#E5ECF6",
            "gridcolor": "white",
            "gridwidth": 2,
            "linecolor": "white",
            "showbackground": true,
            "ticks": "",
            "zerolinecolor": "white"
           },
           "zaxis": {
            "backgroundcolor": "#E5ECF6",
            "gridcolor": "white",
            "gridwidth": 2,
            "linecolor": "white",
            "showbackground": true,
            "ticks": "",
            "zerolinecolor": "white"
           }
          },
          "shapedefaults": {
           "line": {
            "color": "#2a3f5f"
           }
          },
          "ternary": {
           "aaxis": {
            "gridcolor": "white",
            "linecolor": "white",
            "ticks": ""
           },
           "baxis": {
            "gridcolor": "white",
            "linecolor": "white",
            "ticks": ""
           },
           "bgcolor": "#E5ECF6",
           "caxis": {
            "gridcolor": "white",
            "linecolor": "white",
            "ticks": ""
           }
          },
          "title": {
           "x": 0.05
          },
          "xaxis": {
           "automargin": true,
           "gridcolor": "white",
           "linecolor": "white",
           "ticks": "",
           "title": {
            "standoff": 15
           },
           "zerolinecolor": "white",
           "zerolinewidth": 2
          },
          "yaxis": {
           "automargin": true,
           "gridcolor": "white",
           "linecolor": "white",
           "ticks": "",
           "title": {
            "standoff": 15
           },
           "zerolinecolor": "white",
           "zerolinewidth": 2
          }
         }
        },
        "title": {
         "text": "Jo(h)ns in the U.S. Senate"
        }
       }
      }
     },
     "metadata": {},
     "output_type": "display_data"
    }
   ],
   "source": [
    "# Import the pandas library\n",
    "import pandas as pd\n",
    "import matplotlib.pyplot as plt\n",
    "\n",
    "plt_data = df_processed[df_processed['is match']]\n",
    "\n",
    "# Build the choropleth\n",
    "import plotly.express as px\n",
    "fig = px.choropleth(plt_data, \n",
    "    # geojson=counties, \n",
    "    locations=plt_data['POSTAL ABBREVIATION'], \n",
    "    locationmode='USA-states',\n",
    "    color='is match',\n",
    "    # color_continuous_scale=\"Viridis\",\n",
    "    # range_color=(0, 12),\n",
    "    scope=\"usa\",\n",
    "    labels={'is match':'Has a Jo(h)n'},\n",
    "    title='Jo(h)ns in the U.S. Senate'\n",
    ")\n",
    "fig.update_layout(margin={\"r\":0,\"t\":40,\"l\":0,\"b\":0})\n",
    "\n",
    "fig.show()"
   ]
  }
 ],
 "metadata": {
  "kernelspec": {
   "display_name": "Python 3.10.6 ('py310')",
   "language": "python",
   "name": "python3"
  },
  "language_info": {
   "codemirror_mode": {
    "name": "ipython",
    "version": 3
   },
   "file_extension": ".py",
   "mimetype": "text/x-python",
   "name": "python",
   "nbconvert_exporter": "python",
   "pygments_lexer": "ipython3",
   "version": "3.10.6"
  },
  "orig_nbformat": 4,
  "vscode": {
   "interpreter": {
    "hash": "10a98271dc2d25088c0569b46622d4c8bb6910832cf16acedffd85e6f1fc47cb"
   }
  }
 },
 "nbformat": 4,
 "nbformat_minor": 2
}
