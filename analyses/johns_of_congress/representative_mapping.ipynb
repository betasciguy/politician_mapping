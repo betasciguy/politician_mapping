{
 "cells": [
  {
   "cell_type": "markdown",
   "metadata": {},
   "source": [
    "# Jo(h)ns of the U.S. House of Representatives\n",
    "This visualization was inspired by this tweet:\n",
    "\n",
    "<blockquote class=\"twitter-tweet\"><p lang=\"en\" dir=\"ltr\">When Fetterman takes office in January, 10% of all U.S. senators will be named John/Jon</p>&mdash; Grace Segers (@Grace_Segers) <a href=\"https://twitter.com/Grace_Segers/status/1590432772812079104?ref_src=twsrc%5Etfw\">November 9, 2022</a></blockquote> <script async src=\"https://platform.twitter.com/widgets.js\" charset=\"utf-8\"></script>\n",
    "\n",
    "I wanted to find out who the current Jo(h)ns are, who they represent, and some other information about them. To do this, I pulled data from the wikipedia page on current US senators:\n",
    "* Source: https://en.wikipedia.org/wiki/List_of_current_United_States_senators\n",
    "\n",
    "If you're curious, there's also a notebook running this same analysis on the Senate in the same folder."
   ]
  },
  {
   "cell_type": "code",
   "execution_count": 1,
   "metadata": {},
   "outputs": [],
   "source": [
    "import pandas as pd\n",
    "import requests\n",
    "from bs4 import BeautifulSoup\n",
    "import re\n",
    "import datetime as dt\n",
    "import numpy as np\n",
    "import seaborn as sns"
   ]
  },
  {
   "cell_type": "code",
   "execution_count": 2,
   "metadata": {},
   "outputs": [],
   "source": [
    "# House of Reps\n",
    "table_data = {\n",
    "    'url': \"https://en.wikipedia.org/wiki/List_of_current_members_of_the_United_States_House_of_Representatives\",\n",
    "    'attrs': {'class': 'wikitable',\n",
    "              'id': 'votingmembers'}\n",
    "}"
   ]
  },
  {
   "cell_type": "code",
   "execution_count": 3,
   "metadata": {},
   "outputs": [
    {
     "name": "stdout",
     "output_type": "stream",
     "text": [
      "200\n"
     ]
    }
   ],
   "source": [
    "# get the response in the form of html\n",
    "wikiurl=table_data['url']\n",
    "table_class=\"wikitable sortable jquery-tablesorter\"\n",
    "response=requests.get(wikiurl)\n",
    "print(response.status_code)"
   ]
  },
  {
   "cell_type": "code",
   "execution_count": 4,
   "metadata": {},
   "outputs": [],
   "source": [
    "# parse data from the html into a beautifulsoup object\n",
    "soup = BeautifulSoup(response.text, 'html.parser')\n",
    "rep_tbl=soup.find('table', table_data['attrs'])"
   ]
  },
  {
   "cell_type": "code",
   "execution_count": 5,
   "metadata": {},
   "outputs": [],
   "source": [
    "df=pd.read_html(str(rep_tbl))\n",
    "# convert list to dataframe\n",
    "df=pd.DataFrame(df[0])"
   ]
  },
  {
   "cell_type": "markdown",
   "metadata": {},
   "source": [
    "Lets take a look at what this data looks like..."
   ]
  },
  {
   "cell_type": "code",
   "execution_count": 6,
   "metadata": {},
   "outputs": [
    {
     "data": {
      "text/html": [
       "<div>\n",
       "<style scoped>\n",
       "    .dataframe tbody tr th:only-of-type {\n",
       "        vertical-align: middle;\n",
       "    }\n",
       "\n",
       "    .dataframe tbody tr th {\n",
       "        vertical-align: top;\n",
       "    }\n",
       "\n",
       "    .dataframe thead th {\n",
       "        text-align: right;\n",
       "    }\n",
       "</style>\n",
       "<table border=\"1\" class=\"dataframe\">\n",
       "  <thead>\n",
       "    <tr style=\"text-align: right;\">\n",
       "      <th></th>\n",
       "      <th>District</th>\n",
       "      <th>Member</th>\n",
       "      <th>Party</th>\n",
       "      <th>Party.1</th>\n",
       "      <th>Prior experience</th>\n",
       "      <th>Education</th>\n",
       "      <th>Assumed office</th>\n",
       "      <th>Residence</th>\n",
       "      <th>Born[2]</th>\n",
       "    </tr>\n",
       "  </thead>\n",
       "  <tbody>\n",
       "    <tr>\n",
       "      <th>0</th>\n",
       "      <td>Alabama 1</td>\n",
       "      <td>Jerry Carl</td>\n",
       "      <td>NaN</td>\n",
       "      <td>Republican</td>\n",
       "      <td>Mobile County Commission</td>\n",
       "      <td>Florida Gateway College</td>\n",
       "      <td>2021</td>\n",
       "      <td>Mobile</td>\n",
       "      <td>(age 64)</td>\n",
       "    </tr>\n",
       "    <tr>\n",
       "      <th>1</th>\n",
       "      <td>Alabama 2</td>\n",
       "      <td>Barry Moore</td>\n",
       "      <td>NaN</td>\n",
       "      <td>Republican</td>\n",
       "      <td>Alabama House of Representatives</td>\n",
       "      <td>Enterprise State Community College (AS)Auburn ...</td>\n",
       "      <td>2021</td>\n",
       "      <td>Enterprise</td>\n",
       "      <td>(age 56)</td>\n",
       "    </tr>\n",
       "  </tbody>\n",
       "</table>\n",
       "</div>"
      ],
      "text/plain": [
       "    District       Member Party     Party.1                  Prior experience  \\\n",
       "0  Alabama 1   Jerry Carl   NaN  Republican          Mobile County Commission   \n",
       "1  Alabama 2  Barry Moore   NaN  Republican  Alabama House of Representatives   \n",
       "\n",
       "                                           Education Assumed office  \\\n",
       "0                            Florida Gateway College           2021   \n",
       "1  Enterprise State Community College (AS)Auburn ...           2021   \n",
       "\n",
       "    Residence   Born[2]  \n",
       "0      Mobile  (age 64)  \n",
       "1  Enterprise  (age 56)  "
      ]
     },
     "execution_count": 6,
     "metadata": {},
     "output_type": "execute_result"
    }
   ],
   "source": [
    "df.head(2)"
   ]
  },
  {
   "cell_type": "markdown",
   "metadata": {},
   "source": [
    "Clearly need to do some work and format some columns"
   ]
  },
  {
   "cell_type": "code",
   "execution_count": 7,
   "metadata": {},
   "outputs": [
    {
     "data": {
      "text/html": [
       "<div>\n",
       "<style scoped>\n",
       "    .dataframe tbody tr th:only-of-type {\n",
       "        vertical-align: middle;\n",
       "    }\n",
       "\n",
       "    .dataframe tbody tr th {\n",
       "        vertical-align: top;\n",
       "    }\n",
       "\n",
       "    .dataframe thead th {\n",
       "        text-align: right;\n",
       "    }\n",
       "</style>\n",
       "<table border=\"1\" class=\"dataframe\">\n",
       "  <thead>\n",
       "    <tr style=\"text-align: right;\">\n",
       "      <th></th>\n",
       "      <th>District</th>\n",
       "      <th>Member</th>\n",
       "      <th>Party</th>\n",
       "      <th>Assumed office</th>\n",
       "      <th>Born</th>\n",
       "    </tr>\n",
       "  </thead>\n",
       "  <tbody>\n",
       "    <tr>\n",
       "      <th>0</th>\n",
       "      <td>Alabama 1</td>\n",
       "      <td>Jerry Carl</td>\n",
       "      <td>Republican</td>\n",
       "      <td>2021</td>\n",
       "      <td>(age 64)</td>\n",
       "    </tr>\n",
       "    <tr>\n",
       "      <th>1</th>\n",
       "      <td>Alabama 2</td>\n",
       "      <td>Barry Moore</td>\n",
       "      <td>Republican</td>\n",
       "      <td>2021</td>\n",
       "      <td>(age 56)</td>\n",
       "    </tr>\n",
       "    <tr>\n",
       "      <th>2</th>\n",
       "      <td>Alabama 3</td>\n",
       "      <td>Mike Rogers</td>\n",
       "      <td>Republican</td>\n",
       "      <td>2003</td>\n",
       "      <td>(age 64)</td>\n",
       "    </tr>\n",
       "  </tbody>\n",
       "</table>\n",
       "</div>"
      ],
      "text/plain": [
       "    District       Member       Party Assumed office      Born\n",
       "0  Alabama 1   Jerry Carl  Republican           2021  (age 64)\n",
       "1  Alabama 2  Barry Moore  Republican           2021  (age 56)\n",
       "2  Alabama 3  Mike Rogers  Republican           2003  (age 64)"
      ]
     },
     "execution_count": 7,
     "metadata": {},
     "output_type": "execute_result"
    }
   ],
   "source": [
    "# Drop seemingly empty columns\n",
    "df.columns = [re.sub(r'\\[[a-zA-Z0-9]+\\]','', d) for d in df.columns]\n",
    "df_processed = df[['District', 'Member', 'Party.1', 'Assumed office', 'Born']] \\\n",
    "                 .rename(columns={'Party.1': 'Party'}) \\\n",
    "                 .replace({r'\\[[a-zA-Z]+\\]':'',\n",
    "                           r'\\(DFL\\)': '',\n",
    "                           r' \\(special\\)': '', # Special election\n",
    "                           'VACANT': np.nan},   # Some seats may be empty\n",
    "                          regex=True)\n",
    "df_processed['Assumed office'] = pd.to_datetime(df_processed['Assumed office'],\n",
    "                                                format='%B %d, %Y',\n",
    "                                                errors='ignore')\n",
    "df_processed.head(3)"
   ]
  },
  {
   "cell_type": "markdown",
   "metadata": {},
   "source": [
    "We need to properly break out the state"
   ]
  },
  {
   "cell_type": "code",
   "execution_count": 8,
   "metadata": {},
   "outputs": [
    {
     "data": {
      "text/html": [
       "<div>\n",
       "<style scoped>\n",
       "    .dataframe tbody tr th:only-of-type {\n",
       "        vertical-align: middle;\n",
       "    }\n",
       "\n",
       "    .dataframe tbody tr th {\n",
       "        vertical-align: top;\n",
       "    }\n",
       "\n",
       "    .dataframe thead th {\n",
       "        text-align: right;\n",
       "    }\n",
       "</style>\n",
       "<table border=\"1\" class=\"dataframe\">\n",
       "  <thead>\n",
       "    <tr style=\"text-align: right;\">\n",
       "      <th></th>\n",
       "      <th>District</th>\n",
       "      <th>Member</th>\n",
       "      <th>Party</th>\n",
       "      <th>Assumed office</th>\n",
       "      <th>Born</th>\n",
       "      <th>State</th>\n",
       "    </tr>\n",
       "  </thead>\n",
       "  <tbody>\n",
       "    <tr>\n",
       "      <th>0</th>\n",
       "      <td>Alabama 1</td>\n",
       "      <td>Jerry Carl</td>\n",
       "      <td>Republican</td>\n",
       "      <td>2021</td>\n",
       "      <td>(age 64)</td>\n",
       "      <td>Alabama</td>\n",
       "    </tr>\n",
       "    <tr>\n",
       "      <th>1</th>\n",
       "      <td>Alabama 2</td>\n",
       "      <td>Barry Moore</td>\n",
       "      <td>Republican</td>\n",
       "      <td>2021</td>\n",
       "      <td>(age 56)</td>\n",
       "      <td>Alabama</td>\n",
       "    </tr>\n",
       "  </tbody>\n",
       "</table>\n",
       "</div>"
      ],
      "text/plain": [
       "    District       Member       Party Assumed office      Born    State\n",
       "0  Alabama 1   Jerry Carl  Republican           2021  (age 64)  Alabama\n",
       "1  Alabama 2  Barry Moore  Republican           2021  (age 56)  Alabama"
      ]
     },
     "execution_count": 8,
     "metadata": {},
     "output_type": "execute_result"
    }
   ],
   "source": [
    "# Separate the state from the district #\n",
    "df_processed['State'] = [' '.join(district.split()[:-1]) for district in df_processed['District']]\n",
    "df_processed.head(2)"
   ]
  },
  {
   "cell_type": "markdown",
   "metadata": {},
   "source": [
    "Just for fun let's break down how long senators have been serving by number of years"
   ]
  },
  {
   "cell_type": "code",
   "execution_count": 9,
   "metadata": {},
   "outputs": [
    {
     "data": {
      "text/html": [
       "<div>\n",
       "<style scoped>\n",
       "    .dataframe tbody tr th:only-of-type {\n",
       "        vertical-align: middle;\n",
       "    }\n",
       "\n",
       "    .dataframe tbody tr th {\n",
       "        vertical-align: top;\n",
       "    }\n",
       "\n",
       "    .dataframe thead th {\n",
       "        text-align: right;\n",
       "    }\n",
       "</style>\n",
       "<table border=\"1\" class=\"dataframe\">\n",
       "  <thead>\n",
       "    <tr style=\"text-align: right;\">\n",
       "      <th></th>\n",
       "      <th>District</th>\n",
       "      <th>Member</th>\n",
       "      <th>Party</th>\n",
       "      <th>Assumed office</th>\n",
       "      <th>Born</th>\n",
       "      <th>State</th>\n",
       "      <th>age</th>\n",
       "    </tr>\n",
       "  </thead>\n",
       "  <tbody>\n",
       "    <tr>\n",
       "      <th>0</th>\n",
       "      <td>Alabama 1</td>\n",
       "      <td>Jerry Carl</td>\n",
       "      <td>Republican</td>\n",
       "      <td>2021</td>\n",
       "      <td>(age 64)</td>\n",
       "      <td>Alabama</td>\n",
       "      <td>64.0</td>\n",
       "    </tr>\n",
       "    <tr>\n",
       "      <th>1</th>\n",
       "      <td>Alabama 2</td>\n",
       "      <td>Barry Moore</td>\n",
       "      <td>Republican</td>\n",
       "      <td>2021</td>\n",
       "      <td>(age 56)</td>\n",
       "      <td>Alabama</td>\n",
       "      <td>56.0</td>\n",
       "    </tr>\n",
       "  </tbody>\n",
       "</table>\n",
       "</div>"
      ],
      "text/plain": [
       "    District       Member       Party Assumed office      Born    State   age\n",
       "0  Alabama 1   Jerry Carl  Republican           2021  (age 64)  Alabama  64.0\n",
       "1  Alabama 2  Barry Moore  Republican           2021  (age 56)  Alabama  56.0"
      ]
     },
     "execution_count": 9,
     "metadata": {},
     "output_type": "execute_result"
    }
   ],
   "source": [
    "# Get their age\n",
    "rows = (~pd.isna(df_processed['Born']))     # Figure out which Born rows are not null\n",
    "df_processed.loc[rows,'age'] = df_processed.loc[rows,'Born'] \\\n",
    "                                           .map(lambda x: int(re.search(r'\\(age\\s([0-9]{2})\\)', x)\n",
    "                                                                .group(1)))\n",
    "df_processed.head(2)"
   ]
  },
  {
   "cell_type": "code",
   "execution_count": 10,
   "metadata": {},
   "outputs": [
    {
     "data": {
      "text/html": [
       "<div>\n",
       "<style scoped>\n",
       "    .dataframe tbody tr th:only-of-type {\n",
       "        vertical-align: middle;\n",
       "    }\n",
       "\n",
       "    .dataframe tbody tr th {\n",
       "        vertical-align: top;\n",
       "    }\n",
       "\n",
       "    .dataframe thead th {\n",
       "        text-align: right;\n",
       "    }\n",
       "</style>\n",
       "<table border=\"1\" class=\"dataframe\">\n",
       "  <thead>\n",
       "    <tr style=\"text-align: right;\">\n",
       "      <th></th>\n",
       "      <th>District</th>\n",
       "      <th>Member</th>\n",
       "      <th>Party</th>\n",
       "      <th>Assumed office</th>\n",
       "      <th>Born</th>\n",
       "      <th>State</th>\n",
       "      <th>age</th>\n",
       "      <th>Years in Office</th>\n",
       "    </tr>\n",
       "  </thead>\n",
       "  <tbody>\n",
       "    <tr>\n",
       "      <th>185</th>\n",
       "      <td>Maryland 5</td>\n",
       "      <td>Steny Hoyer</td>\n",
       "      <td>Democratic</td>\n",
       "      <td>1981</td>\n",
       "      <td>(age 83)</td>\n",
       "      <td>Maryland</td>\n",
       "      <td>83.0</td>\n",
       "      <td>41</td>\n",
       "    </tr>\n",
       "    <tr>\n",
       "      <th>171</th>\n",
       "      <td>Kentucky 5</td>\n",
       "      <td>Hal Rogers</td>\n",
       "      <td>Republican</td>\n",
       "      <td>1981</td>\n",
       "      <td>(age 84)</td>\n",
       "      <td>Kentucky</td>\n",
       "      <td>84.0</td>\n",
       "      <td>41</td>\n",
       "    </tr>\n",
       "    <tr>\n",
       "      <th>245</th>\n",
       "      <td>New Jersey 4</td>\n",
       "      <td>Chris Smith</td>\n",
       "      <td>Republican</td>\n",
       "      <td>1981</td>\n",
       "      <td>(age 69)</td>\n",
       "      <td>New Jersey</td>\n",
       "      <td>69.0</td>\n",
       "      <td>41</td>\n",
       "    </tr>\n",
       "    <tr>\n",
       "      <th>306</th>\n",
       "      <td>Ohio 9</td>\n",
       "      <td>Marcy Kaptur</td>\n",
       "      <td>Democratic</td>\n",
       "      <td>1983</td>\n",
       "      <td>(age 76)</td>\n",
       "      <td>Ohio</td>\n",
       "      <td>76.0</td>\n",
       "      <td>39</td>\n",
       "    </tr>\n",
       "    <tr>\n",
       "      <th>203</th>\n",
       "      <td>Michigan 6</td>\n",
       "      <td>Fred Upton</td>\n",
       "      <td>Republican</td>\n",
       "      <td>1987</td>\n",
       "      <td>(age 69)</td>\n",
       "      <td>Michigan</td>\n",
       "      <td>69.0</td>\n",
       "      <td>35</td>\n",
       "    </tr>\n",
       "    <tr>\n",
       "      <th>...</th>\n",
       "      <td>...</td>\n",
       "      <td>...</td>\n",
       "      <td>...</td>\n",
       "      <td>...</td>\n",
       "      <td>...</td>\n",
       "      <td>...</td>\n",
       "      <td>...</td>\n",
       "      <td>...</td>\n",
       "    </tr>\n",
       "    <tr>\n",
       "      <th>7</th>\n",
       "      <td>Alaska at-large</td>\n",
       "      <td>Mary Peltola</td>\n",
       "      <td>Democratic</td>\n",
       "      <td>2022</td>\n",
       "      <td>(age 49)</td>\n",
       "      <td>Alaska</td>\n",
       "      <td>49.0</td>\n",
       "      <td>0</td>\n",
       "    </tr>\n",
       "    <tr>\n",
       "      <th>212</th>\n",
       "      <td>Minnesota 1</td>\n",
       "      <td>Brad Finstad</td>\n",
       "      <td>Republican</td>\n",
       "      <td>2022</td>\n",
       "      <td>(age 46)</td>\n",
       "      <td>Minnesota</td>\n",
       "      <td>46.0</td>\n",
       "      <td>0</td>\n",
       "    </tr>\n",
       "    <tr>\n",
       "      <th>99</th>\n",
       "      <td>Florida 13</td>\n",
       "      <td>NaN</td>\n",
       "      <td>NaN</td>\n",
       "      <td>NaN</td>\n",
       "      <td>NaN</td>\n",
       "      <td>Florida</td>\n",
       "      <td>NaN</td>\n",
       "      <td>NaN</td>\n",
       "    </tr>\n",
       "    <tr>\n",
       "      <th>108</th>\n",
       "      <td>Florida 22</td>\n",
       "      <td>NaN</td>\n",
       "      <td>NaN</td>\n",
       "      <td>NaN</td>\n",
       "      <td>NaN</td>\n",
       "      <td>Florida</td>\n",
       "      <td>NaN</td>\n",
       "      <td>NaN</td>\n",
       "    </tr>\n",
       "    <tr>\n",
       "      <th>151</th>\n",
       "      <td>Indiana 2</td>\n",
       "      <td>NaN</td>\n",
       "      <td>NaN</td>\n",
       "      <td>NaN</td>\n",
       "      <td>NaN</td>\n",
       "      <td>Indiana</td>\n",
       "      <td>NaN</td>\n",
       "      <td>NaN</td>\n",
       "    </tr>\n",
       "  </tbody>\n",
       "</table>\n",
       "<p>435 rows × 8 columns</p>\n",
       "</div>"
      ],
      "text/plain": [
       "            District        Member       Party Assumed office      Born  \\\n",
       "185       Maryland 5   Steny Hoyer  Democratic           1981  (age 83)   \n",
       "171       Kentucky 5    Hal Rogers  Republican           1981  (age 84)   \n",
       "245     New Jersey 4   Chris Smith  Republican           1981  (age 69)   \n",
       "306           Ohio 9  Marcy Kaptur  Democratic           1983  (age 76)   \n",
       "203       Michigan 6    Fred Upton  Republican           1987  (age 69)   \n",
       "..               ...           ...         ...            ...       ...   \n",
       "7    Alaska at-large  Mary Peltola  Democratic           2022  (age 49)   \n",
       "212      Minnesota 1  Brad Finstad  Republican           2022  (age 46)   \n",
       "99        Florida 13           NaN         NaN            NaN       NaN   \n",
       "108       Florida 22           NaN         NaN            NaN       NaN   \n",
       "151        Indiana 2           NaN         NaN            NaN       NaN   \n",
       "\n",
       "          State   age Years in Office  \n",
       "185    Maryland  83.0              41  \n",
       "171    Kentucky  84.0              41  \n",
       "245  New Jersey  69.0              41  \n",
       "306        Ohio  76.0              39  \n",
       "203    Michigan  69.0              35  \n",
       "..          ...   ...             ...  \n",
       "7        Alaska  49.0               0  \n",
       "212   Minnesota  46.0               0  \n",
       "99      Florida   NaN             NaN  \n",
       "108     Florida   NaN             NaN  \n",
       "151     Indiana   NaN             NaN  \n",
       "\n",
       "[435 rows x 8 columns]"
      ]
     },
     "execution_count": 10,
     "metadata": {},
     "output_type": "execute_result"
    }
   ],
   "source": [
    "# Compute delta-years\n",
    "rows = ~pd.isna(df_processed['Assumed office'])\n",
    "df_processed.loc[rows,'Assumed office'] = [int(year) for year in df_processed.loc[rows,'Assumed office']]\n",
    "df_processed['Years in Office'] = (dt.datetime.now().year - df_processed['Assumed office'])\n",
    "df_processed.sort_values('Years in Office', ascending=False)"
   ]
  },
  {
   "cell_type": "code",
   "execution_count": 11,
   "metadata": {},
   "outputs": [
    {
     "data": {
      "text/plain": [
       "[Text(0.5, 1.0, 'House Reps by Years in Office')]"
      ]
     },
     "execution_count": 11,
     "metadata": {},
     "output_type": "execute_result"
    },
    {
     "data": {
      "image/png": "[encoded data removed]",
      "text/plain": [
       "<Figure size 640x480 with 1 Axes>"
      ]
     },
     "metadata": {},
     "output_type": "display_data"
    }
   ],
   "source": [
    "# Plot it up!\n",
    "sns.histplot(data=df_processed, \n",
    "             x=\"Years in Office\", \n",
    "             hue='Party',\n",
    "             multiple='stack',\n",
    "             bins = range(0,50,2),\n",
    "             palette={\n",
    "                'Republican': 'tab:red',\n",
    "                'Democratic': 'tab:blue',\n",
    "                'Independent': 'tab:green'\n",
    "             }) \\\n",
    "   .set(title='House Reps by Years in Office')"
   ]
  },
  {
   "cell_type": "code",
   "execution_count": 12,
   "metadata": {},
   "outputs": [
    {
     "data": {
      "text/html": [
       "<div>\n",
       "<style scoped>\n",
       "    .dataframe tbody tr th:only-of-type {\n",
       "        vertical-align: middle;\n",
       "    }\n",
       "\n",
       "    .dataframe tbody tr th {\n",
       "        vertical-align: top;\n",
       "    }\n",
       "\n",
       "    .dataframe thead th {\n",
       "        text-align: right;\n",
       "    }\n",
       "</style>\n",
       "<table border=\"1\" class=\"dataframe\">\n",
       "  <thead>\n",
       "    <tr style=\"text-align: right;\">\n",
       "      <th></th>\n",
       "      <th>District</th>\n",
       "      <th>Member</th>\n",
       "      <th>Party</th>\n",
       "      <th>Assumed office</th>\n",
       "      <th>Born</th>\n",
       "      <th>State</th>\n",
       "      <th>age</th>\n",
       "      <th>Years in Office</th>\n",
       "    </tr>\n",
       "  </thead>\n",
       "  <tbody>\n",
       "    <tr>\n",
       "      <th>185</th>\n",
       "      <td>Maryland 5</td>\n",
       "      <td>Steny Hoyer</td>\n",
       "      <td>Democratic</td>\n",
       "      <td>1981</td>\n",
       "      <td>(age 83)</td>\n",
       "      <td>Maryland</td>\n",
       "      <td>83.0</td>\n",
       "      <td>41</td>\n",
       "    </tr>\n",
       "    <tr>\n",
       "      <th>171</th>\n",
       "      <td>Kentucky 5</td>\n",
       "      <td>Hal Rogers</td>\n",
       "      <td>Republican</td>\n",
       "      <td>1981</td>\n",
       "      <td>(age 84)</td>\n",
       "      <td>Kentucky</td>\n",
       "      <td>84.0</td>\n",
       "      <td>41</td>\n",
       "    </tr>\n",
       "    <tr>\n",
       "      <th>245</th>\n",
       "      <td>New Jersey 4</td>\n",
       "      <td>Chris Smith</td>\n",
       "      <td>Republican</td>\n",
       "      <td>1981</td>\n",
       "      <td>(age 69)</td>\n",
       "      <td>New Jersey</td>\n",
       "      <td>69.0</td>\n",
       "      <td>41</td>\n",
       "    </tr>\n",
       "    <tr>\n",
       "      <th>306</th>\n",
       "      <td>Ohio 9</td>\n",
       "      <td>Marcy Kaptur</td>\n",
       "      <td>Democratic</td>\n",
       "      <td>1983</td>\n",
       "      <td>(age 76)</td>\n",
       "      <td>Ohio</td>\n",
       "      <td>76.0</td>\n",
       "      <td>39</td>\n",
       "    </tr>\n",
       "    <tr>\n",
       "      <th>203</th>\n",
       "      <td>Michigan 6</td>\n",
       "      <td>Fred Upton</td>\n",
       "      <td>Republican</td>\n",
       "      <td>1987</td>\n",
       "      <td>(age 69)</td>\n",
       "      <td>Michigan</td>\n",
       "      <td>69.0</td>\n",
       "      <td>35</td>\n",
       "    </tr>\n",
       "  </tbody>\n",
       "</table>\n",
       "</div>"
      ],
      "text/plain": [
       "         District        Member       Party Assumed office      Born  \\\n",
       "185    Maryland 5   Steny Hoyer  Democratic           1981  (age 83)   \n",
       "171    Kentucky 5    Hal Rogers  Republican           1981  (age 84)   \n",
       "245  New Jersey 4   Chris Smith  Republican           1981  (age 69)   \n",
       "306        Ohio 9  Marcy Kaptur  Democratic           1983  (age 76)   \n",
       "203    Michigan 6    Fred Upton  Republican           1987  (age 69)   \n",
       "\n",
       "          State   age Years in Office  \n",
       "185    Maryland  83.0              41  \n",
       "171    Kentucky  84.0              41  \n",
       "245  New Jersey  69.0              41  \n",
       "306        Ohio  76.0              39  \n",
       "203    Michigan  69.0              35  "
      ]
     },
     "execution_count": 12,
     "metadata": {},
     "output_type": "execute_result"
    }
   ],
   "source": [
    "# 5 longest serving representatives:\n",
    "df_processed.sort_values('Years in Office', ascending=False).iloc[:5]"
   ]
  },
  {
   "cell_type": "markdown",
   "metadata": {},
   "source": [
    "OK, let's do what we came here to do"
   ]
  },
  {
   "cell_type": "code",
   "execution_count": 13,
   "metadata": {},
   "outputs": [
    {
     "name": "stdout",
     "output_type": "stream",
     "text": [
      "11\n"
     ]
    },
    {
     "data": {
      "text/html": [
       "<div>\n",
       "<style scoped>\n",
       "    .dataframe tbody tr th:only-of-type {\n",
       "        vertical-align: middle;\n",
       "    }\n",
       "\n",
       "    .dataframe tbody tr th {\n",
       "        vertical-align: top;\n",
       "    }\n",
       "\n",
       "    .dataframe thead th {\n",
       "        text-align: right;\n",
       "    }\n",
       "</style>\n",
       "<table border=\"1\" class=\"dataframe\">\n",
       "  <thead>\n",
       "    <tr style=\"text-align: right;\">\n",
       "      <th></th>\n",
       "      <th>District</th>\n",
       "      <th>Member</th>\n",
       "      <th>Party</th>\n",
       "      <th>Assumed office</th>\n",
       "      <th>Born</th>\n",
       "      <th>State</th>\n",
       "      <th>age</th>\n",
       "      <th>Years in Office</th>\n",
       "      <th>is match</th>\n",
       "    </tr>\n",
       "  </thead>\n",
       "  <tbody>\n",
       "    <tr>\n",
       "      <th>23</th>\n",
       "      <td>California 3</td>\n",
       "      <td>John Garamendi</td>\n",
       "      <td>Democratic</td>\n",
       "      <td>2009</td>\n",
       "      <td>(age 77)</td>\n",
       "      <td>California</td>\n",
       "      <td>77.0</td>\n",
       "      <td>13</td>\n",
       "      <td>True</td>\n",
       "    </tr>\n",
       "    <tr>\n",
       "      <th>81</th>\n",
       "      <td>Connecticut 1</td>\n",
       "      <td>John B. Larson</td>\n",
       "      <td>Democratic</td>\n",
       "      <td>1999</td>\n",
       "      <td>(age 74)</td>\n",
       "      <td>Connecticut</td>\n",
       "      <td>74.0</td>\n",
       "      <td>23</td>\n",
       "      <td>True</td>\n",
       "    </tr>\n",
       "    <tr>\n",
       "      <th>90</th>\n",
       "      <td>Florida 4</td>\n",
       "      <td>John Rutherford</td>\n",
       "      <td>Republican</td>\n",
       "      <td>2017</td>\n",
       "      <td>(age 70)</td>\n",
       "      <td>Florida</td>\n",
       "      <td>70.0</td>\n",
       "      <td>5</td>\n",
       "      <td>True</td>\n",
       "    </tr>\n",
       "    <tr>\n",
       "      <th>169</th>\n",
       "      <td>Kentucky 3</td>\n",
       "      <td>John Yarmuth</td>\n",
       "      <td>Democratic</td>\n",
       "      <td>2007</td>\n",
       "      <td>(age 75)</td>\n",
       "      <td>Kentucky</td>\n",
       "      <td>75.0</td>\n",
       "      <td>15</td>\n",
       "      <td>True</td>\n",
       "    </tr>\n",
       "    <tr>\n",
       "      <th>183</th>\n",
       "      <td>Maryland 3</td>\n",
       "      <td>John Sarbanes</td>\n",
       "      <td>Democratic</td>\n",
       "      <td>2007</td>\n",
       "      <td>(age 60)</td>\n",
       "      <td>Maryland</td>\n",
       "      <td>60.0</td>\n",
       "      <td>15</td>\n",
       "      <td>True</td>\n",
       "    </tr>\n",
       "    <tr>\n",
       "      <th>201</th>\n",
       "      <td>Michigan 4</td>\n",
       "      <td>John Moolenaar</td>\n",
       "      <td>Republican</td>\n",
       "      <td>2015</td>\n",
       "      <td>(age 61)</td>\n",
       "      <td>Michigan</td>\n",
       "      <td>61.0</td>\n",
       "      <td>7</td>\n",
       "      <td>True</td>\n",
       "    </tr>\n",
       "    <tr>\n",
       "      <th>280</th>\n",
       "      <td>New York 24</td>\n",
       "      <td>John Katko</td>\n",
       "      <td>Republican</td>\n",
       "      <td>2015</td>\n",
       "      <td>(age 60)</td>\n",
       "      <td>New York</td>\n",
       "      <td>60.0</td>\n",
       "      <td>7</td>\n",
       "      <td>True</td>\n",
       "    </tr>\n",
       "    <tr>\n",
       "      <th>336</th>\n",
       "      <td>Pennsylvania 13</td>\n",
       "      <td>John Joyce</td>\n",
       "      <td>Republican</td>\n",
       "      <td>2019</td>\n",
       "      <td>(age 65)</td>\n",
       "      <td>Pennsylvania</td>\n",
       "      <td>65.0</td>\n",
       "      <td>3</td>\n",
       "      <td>True</td>\n",
       "    </tr>\n",
       "    <tr>\n",
       "      <th>357</th>\n",
       "      <td>Tennessee 6</td>\n",
       "      <td>John Rose</td>\n",
       "      <td>Republican</td>\n",
       "      <td>2019</td>\n",
       "      <td>(age 57)</td>\n",
       "      <td>Tennessee</td>\n",
       "      <td>57.0</td>\n",
       "      <td>3</td>\n",
       "      <td>True</td>\n",
       "    </tr>\n",
       "    <tr>\n",
       "      <th>391</th>\n",
       "      <td>Texas 31</td>\n",
       "      <td>John Carter</td>\n",
       "      <td>Republican</td>\n",
       "      <td>2003</td>\n",
       "      <td>(age 81)</td>\n",
       "      <td>Texas</td>\n",
       "      <td>81.0</td>\n",
       "      <td>19</td>\n",
       "      <td>True</td>\n",
       "    </tr>\n",
       "    <tr>\n",
       "      <th>399</th>\n",
       "      <td>Utah 3</td>\n",
       "      <td>John Curtis</td>\n",
       "      <td>Republican</td>\n",
       "      <td>2017</td>\n",
       "      <td>(age 62)</td>\n",
       "      <td>Utah</td>\n",
       "      <td>62.0</td>\n",
       "      <td>5</td>\n",
       "      <td>True</td>\n",
       "    </tr>\n",
       "  </tbody>\n",
       "</table>\n",
       "</div>"
      ],
      "text/plain": [
       "            District           Member       Party Assumed office      Born  \\\n",
       "23      California 3   John Garamendi  Democratic           2009  (age 77)   \n",
       "81     Connecticut 1   John B. Larson  Democratic           1999  (age 74)   \n",
       "90         Florida 4  John Rutherford  Republican           2017  (age 70)   \n",
       "169       Kentucky 3     John Yarmuth  Democratic           2007  (age 75)   \n",
       "183       Maryland 3    John Sarbanes  Democratic           2007  (age 60)   \n",
       "201       Michigan 4   John Moolenaar  Republican           2015  (age 61)   \n",
       "280      New York 24       John Katko  Republican           2015  (age 60)   \n",
       "336  Pennsylvania 13       John Joyce  Republican           2019  (age 65)   \n",
       "357      Tennessee 6        John Rose  Republican           2019  (age 57)   \n",
       "391         Texas 31      John Carter  Republican           2003  (age 81)   \n",
       "399           Utah 3      John Curtis  Republican           2017  (age 62)   \n",
       "\n",
       "            State   age Years in Office is match  \n",
       "23     California  77.0              13     True  \n",
       "81    Connecticut  74.0              23     True  \n",
       "90        Florida  70.0               5     True  \n",
       "169      Kentucky  75.0              15     True  \n",
       "183      Maryland  60.0              15     True  \n",
       "201      Michigan  61.0               7     True  \n",
       "280      New York  60.0               7     True  \n",
       "336  Pennsylvania  65.0               3     True  \n",
       "357     Tennessee  57.0               3     True  \n",
       "391         Texas  81.0              19     True  \n",
       "399          Utah  62.0               5     True  "
      ]
     },
     "execution_count": 13,
     "metadata": {},
     "output_type": "execute_result"
    }
   ],
   "source": [
    "match_str = r'(Jon|John)'\n",
    "df_processed.loc[rows,'is match'] = df_processed.loc[rows,'Member'] \\\n",
    "                                                .map(lambda x: re.match(match_str, x) is not None,\n",
    "                                                     na_action='ignore')\n",
    "print(df_processed[df_processed['is match'] & ~pd.isna(df_processed['is match'])].shape[0])                                                  \n",
    "df_processed[df_processed['is match'] & ~pd.isna(df_processed['is match'])]"
   ]
  },
  {
   "cell_type": "code",
   "execution_count": 14,
   "metadata": {},
   "outputs": [
    {
     "data": {
      "text/plain": [
       "[Text(0.5, 1.0, 'Johns in the House by Years in Office')]"
      ]
     },
     "execution_count": 14,
     "metadata": {},
     "output_type": "execute_result"
    },
    {
     "data": {
      "image/png": "[encoded data removed]",
      "text/plain": [
       "<Figure size 640x480 with 1 Axes>"
      ]
     },
     "metadata": {},
     "output_type": "display_data"
    }
   ],
   "source": [
    "sns.histplot(data=df_processed.loc[(~pd.isna(df_processed['is match'])) &\n",
    "                                   (df_processed['is match'])], \n",
    "             x=\"Years in Office\", \n",
    "             hue='Party',\n",
    "             multiple='stack',\n",
    "             bins = range(0,50,2),\n",
    "             palette={\n",
    "                'Republican': 'tab:red',\n",
    "                'Democratic': 'tab:blue',\n",
    "                'Independent': 'tab:green'\n",
    "             }) \\\n",
    "   .set(title='Johns in the House by Years in Office')"
   ]
  },
  {
   "cell_type": "code",
   "execution_count": 15,
   "metadata": {},
   "outputs": [
    {
     "data": {
      "text/plain": [
       "[Text(0.5, 1.0, 'Johns in the House of Reps by Age')]"
      ]
     },
     "execution_count": 15,
     "metadata": {},
     "output_type": "execute_result"
    },
    {
     "data": {
      "image/png": "[encoded data removed]",
      "text/plain": [
       "<Figure size 640x480 with 1 Axes>"
      ]
     },
     "metadata": {},
     "output_type": "display_data"
    }
   ],
   "source": [
    "# How old are the Jo(h)n(i)s?\n",
    "sns.histplot(data=df_processed.loc[(~pd.isna(df_processed['is match'])) &\n",
    "                                   (df_processed['is match'])], \n",
    "             x=\"age\", \n",
    "             hue='Party',\n",
    "             multiple='stack',\n",
    "             bins = range(20,100,5),\n",
    "             palette={\n",
    "                'Republican': 'tab:red',\n",
    "                'Democratic': 'tab:blue',\n",
    "                'Independent': 'tab:green'\n",
    "             }) \\\n",
    "   .set(title='Johns in the House of Reps by Age')"
   ]
  },
  {
   "cell_type": "code",
   "execution_count": 16,
   "metadata": {},
   "outputs": [],
   "source": [
    "# Join the postal abbreviation to the actual state names\n",
    "postal = pd.read_csv('../../data/state_abbrv.csv', usecols=[0,1])\n",
    "df_processed = df_processed.merge(postal, left_on='State', right_on='US STATE')"
   ]
  },
  {
   "cell_type": "code",
   "execution_count": 17,
   "metadata": {},
   "outputs": [
    {
     "data": {
      "application/vnd.plotly.v1+json": {
       "config": {
        "plotlyServerURL": "https://plot.ly"
       },
       "data": [
        {
         "colorscale": [
          [
           0,
           "#636efa"
          ],
          [
           1,
           "#636efa"
          ]
         ],
         "geo": "geo",
         "hovertemplate": "Has a Jo(h)n=True<br>State=%{location}<extra></extra>",
         "locationmode": "USA-states",
         "locations": [
          "CA",
          "CT",
          "FL",
          "KY",
          "MD",
          "MI",
          "NY",
          "PA",
          "TN",
          "TX",
          "UT"
         ],
         "name": "True",
         "showlegend": true,
         "showscale": false,
         "type": "choropleth",
         "z": [
          1,
          1,
          1,
          1,
          1,
          1,
          1,
          1,
          1,
          1,
          1
         ]
        }
       ],
       "layout": {
        "geo": {
         "center": {},
         "domain": {
          "x": [
           0,
           1
          ],
          "y": [
           0,
           1
          ]
         },
         "scope": "usa"
        },
        "legend": {
         "title": {
          "text": "Has a Jo(h)n"
         },
         "tracegroupgap": 0
        },
        "margin": {
         "b": 0,
         "l": 0,
         "r": 0,
         "t": 40
        },
        "template": {
         "data": {
          "bar": [
           {
            "error_x": {
             "color": "#2a3f5f"
            },
            "error_y": {
             "color": "#2a3f5f"
            },
            "marker": {
             "line": {
              "color": "#E5ECF6",
              "width": 0.5
             },
             "pattern": {
              "fillmode": "overlay",
              "size": 10,
              "solidity": 0.2
             }
            },
            "type": "bar"
           }
          ],
          "barpolar": [
           {
            "marker": {
             "line": {
              "color": "#E5ECF6",
              "width": 0.5
             },
             "pattern": {
              "fillmode": "overlay",
              "size": 10,
              "solidity": 0.2
             }
            },
            "type": "barpolar"
           }
          ],
          "carpet": [
           {
            "aaxis": {
             "endlinecolor": "#2a3f5f",
             "gridcolor": "white",
             "linecolor": "white",
             "minorgridcolor": "white",
             "startlinecolor": "#2a3f5f"
            },
            "baxis": {
             "endlinecolor": "#2a3f5f",
             "gridcolor": "white",
             "linecolor": "white",
             "minorgridcolor": "white",
             "startlinecolor": "#2a3f5f"
            },
            "type": "carpet"
           }
          ],
          "choropleth": [
           {
            "colorbar": {
             "outlinewidth": 0,
             "ticks": ""
            },
            "type": "choropleth"
           }
          ],
          "contour": [
           {
            "colorbar": {
             "outlinewidth": 0,
             "ticks": ""
            },
            "colorscale": [
             [
              0,
              "#0d0887"
             ],
             [
              0.1111111111111111,
              "#46039f"
             ],
             [
              0.2222222222222222,
              "#7201a8"
             ],
             [
              0.3333333333333333,
              "#9c179e"
             ],
             [
              0.4444444444444444,
              "#bd3786"
             ],
             [
              0.5555555555555556,
              "#d8576b"
             ],
             [
              0.6666666666666666,
              "#ed7953"
             ],
             [
              0.7777777777777778,
              "#fb9f3a"
             ],
             [
              0.8888888888888888,
              "#fdca26"
             ],
             [
              1,
              "#f0f921"
             ]
            ],
            "type": "contour"
           }
          ],
          "contourcarpet": [
           {
            "colorbar": {
             "outlinewidth": 0,
             "ticks": ""
            },
            "type": "contourcarpet"
           }
          ],
          "heatmap": [
           {
            "colorbar": {
             "outlinewidth": 0,
             "ticks": ""
            },
            "colorscale": [
             [
              0,
              "#0d0887"
             ],
             [
              0.1111111111111111,
              "#46039f"
             ],
             [
              0.2222222222222222,
              "#7201a8"
             ],
             [
              0.3333333333333333,
              "#9c179e"
             ],
             [
              0.4444444444444444,
              "#bd3786"
             ],
             [
              0.5555555555555556,
              "#d8576b"
             ],
             [
              0.6666666666666666,
              "#ed7953"
             ],
             [
              0.7777777777777778,
              "#fb9f3a"
             ],
             [
              0.8888888888888888,
              "#fdca26"
             ],
             [
              1,
              "#f0f921"
             ]
            ],
            "type": "heatmap"
           }
          ],
          "heatmapgl": [
           {
            "colorbar": {
             "outlinewidth": 0,
             "ticks": ""
            },
            "colorscale": [
             [
              0,
              "#0d0887"
             ],
             [
              0.1111111111111111,
              "#46039f"
             ],
             [
              0.2222222222222222,
              "#7201a8"
             ],
             [
              0.3333333333333333,
              "#9c179e"
             ],
             [
              0.4444444444444444,
              "#bd3786"
             ],
             [
              0.5555555555555556,
              "#d8576b"
             ],
             [
              0.6666666666666666,
              "#ed7953"
             ],
             [
              0.7777777777777778,
              "#fb9f3a"
             ],
             [
              0.8888888888888888,
              "#fdca26"
             ],
             [
              1,
              "#f0f921"
             ]
            ],
            "type": "heatmapgl"
           }
          ],
          "histogram": [
           {
            "marker": {
             "pattern": {
              "fillmode": "overlay",
              "size": 10,
              "solidity": 0.2
             }
            },
            "type": "histogram"
           }
          ],
          "histogram2d": [
           {
            "colorbar": {
             "outlinewidth": 0,
             "ticks": ""
            },
            "colorscale": [
             [
              0,
              "#0d0887"
             ],
             [
              0.1111111111111111,
              "#46039f"
             ],
             [
              0.2222222222222222,
              "#7201a8"
             ],
             [
              0.3333333333333333,
              "#9c179e"
             ],
             [
              0.4444444444444444,
              "#bd3786"
             ],
             [
              0.5555555555555556,
              "#d8576b"
             ],
             [
              0.6666666666666666,
              "#ed7953"
             ],
             [
              0.7777777777777778,
              "#fb9f3a"
             ],
             [
              0.8888888888888888,
              "#fdca26"
             ],
             [
              1,
              "#f0f921"
             ]
            ],
            "type": "histogram2d"
           }
          ],
          "histogram2dcontour": [
           {
            "colorbar": {
             "outlinewidth": 0,
             "ticks": ""
            },
            "colorscale": [
             [
              0,
              "#0d0887"
             ],
             [
              0.1111111111111111,
              "#46039f"
             ],
             [
              0.2222222222222222,
              "#7201a8"
             ],
             [
              0.3333333333333333,
              "#9c179e"
             ],
             [
              0.4444444444444444,
              "#bd3786"
             ],
             [
              0.5555555555555556,
              "#d8576b"
             ],
             [
              0.6666666666666666,
              "#ed7953"
             ],
             [
              0.7777777777777778,
              "#fb9f3a"
             ],
             [
              0.8888888888888888,
              "#fdca26"
             ],
             [
              1,
              "#f0f921"
             ]
            ],
            "type": "histogram2dcontour"
           }
          ],
          "mesh3d": [
           {
            "colorbar": {
             "outlinewidth": 0,
             "ticks": ""
            },
            "type": "mesh3d"
           }
          ],
          "parcoords": [
           {
            "line": {
             "colorbar": {
              "outlinewidth": 0,
              "ticks": ""
             }
            },
            "type": "parcoords"
           }
          ],
          "pie": [
           {
            "automargin": true,
            "type": "pie"
           }
          ],
          "scatter": [
           {
            "fillpattern": {
             "fillmode": "overlay",
             "size": 10,
             "solidity": 0.2
            },
            "type": "scatter"
           }
          ],
          "scatter3d": [
           {
            "line": {
             "colorbar": {
              "outlinewidth": 0,
              "ticks": ""
             }
            },
            "marker": {
             "colorbar": {
              "outlinewidth": 0,
              "ticks": ""
             }
            },
            "type": "scatter3d"
           }
          ],
          "scattercarpet": [
           {
            "marker": {
             "colorbar": {
              "outlinewidth": 0,
              "ticks": ""
             }
            },
            "type": "scattercarpet"
           }
          ],
          "scattergeo": [
           {
            "marker": {
             "colorbar": {
              "outlinewidth": 0,
              "ticks": ""
             }
            },
            "type": "scattergeo"
           }
          ],
          "scattergl": [
           {
            "marker": {
             "colorbar": {
              "outlinewidth": 0,
              "ticks": ""
             }
            },
            "type": "scattergl"
           }
          ],
          "scattermapbox": [
           {
            "marker": {
             "colorbar": {
              "outlinewidth": 0,
              "ticks": ""
             }
            },
            "type": "scattermapbox"
           }
          ],
          "scatterpolar": [
           {
            "marker": {
             "colorbar": {
              "outlinewidth": 0,
              "ticks": ""
             }
            },
            "type": "scatterpolar"
           }
          ],
          "scatterpolargl": [
           {
            "marker": {
             "colorbar": {
              "outlinewidth": 0,
              "ticks": ""
             }
            },
            "type": "scatterpolargl"
           }
          ],
          "scatterternary": [
           {
            "marker": {
             "colorbar": {
              "outlinewidth": 0,
              "ticks": ""
             }
            },
            "type": "scatterternary"
           }
          ],
          "surface": [
           {
            "colorbar": {
             "outlinewidth": 0,
             "ticks": ""
            },
            "colorscale": [
             [
              0,
              "#0d0887"
             ],
             [
              0.1111111111111111,
              "#46039f"
             ],
             [
              0.2222222222222222,
              "#7201a8"
             ],
             [
              0.3333333333333333,
              "#9c179e"
             ],
             [
              0.4444444444444444,
              "#bd3786"
             ],
             [
              0.5555555555555556,
              "#d8576b"
             ],
             [
              0.6666666666666666,
              "#ed7953"
             ],
             [
              0.7777777777777778,
              "#fb9f3a"
             ],
             [
              0.8888888888888888,
              "#fdca26"
             ],
             [
              1,
              "#f0f921"
             ]
            ],
            "type": "surface"
           }
          ],
          "table": [
           {
            "cells": {
             "fill": {
              "color": "#EBF0F8"
             },
             "line": {
              "color": "white"
             }
            },
            "header": {
             "fill": {
              "color": "#C8D4E3"
             },
             "line": {
              "color": "white"
             }
            },
            "type": "table"
           }
          ]
         },
         "layout": {
          "annotationdefaults": {
           "arrowcolor": "#2a3f5f",
           "arrowhead": 0,
           "arrowwidth": 1
          },
          "autotypenumbers": "strict",
          "coloraxis": {
           "colorbar": {
            "outlinewidth": 0,
            "ticks": ""
           }
          },
          "colorscale": {
           "diverging": [
            [
             0,
             "#8e0152"
            ],
            [
             0.1,
             "#c51b7d"
            ],
            [
             0.2,
             "#de77ae"
            ],
            [
             0.3,
             "#f1b6da"
            ],
            [
             0.4,
             "#fde0ef"
            ],
            [
             0.5,
             "#f7f7f7"
            ],
            [
             0.6,
             "#e6f5d0"
            ],
            [
             0.7,
             "#b8e186"
            ],
            [
             0.8,
             "#7fbc41"
            ],
            [
             0.9,
             "#4d9221"
            ],
            [
             1,
             "#276419"
            ]
           ],
           "sequential": [
            [
             0,
             "#0d0887"
            ],
            [
             0.1111111111111111,
             "#46039f"
            ],
            [
             0.2222222222222222,
             "#7201a8"
            ],
            [
             0.3333333333333333,
             "#9c179e"
            ],
            [
             0.4444444444444444,
             "#bd3786"
            ],
            [
             0.5555555555555556,
             "#d8576b"
            ],
            [
             0.6666666666666666,
             "#ed7953"
            ],
            [
             0.7777777777777778,
             "#fb9f3a"
            ],
            [
             0.8888888888888888,
             "#fdca26"
            ],
            [
             1,
             "#f0f921"
            ]
           ],
           "sequentialminus": [
            [
             0,
             "#0d0887"
            ],
            [
             0.1111111111111111,
             "#46039f"
            ],
            [
             0.2222222222222222,
             "#7201a8"
            ],
            [
             0.3333333333333333,
             "#9c179e"
            ],
            [
             0.4444444444444444,
             "#bd3786"
            ],
            [
             0.5555555555555556,
             "#d8576b"
            ],
            [
             0.6666666666666666,
             "#ed7953"
            ],
            [
             0.7777777777777778,
             "#fb9f3a"
            ],
            [
             0.8888888888888888,
             "#fdca26"
            ],
            [
             1,
             "#f0f921"
            ]
           ]
          },
          "colorway": [
           "#636efa",
           "#EF553B",
           "#00cc96",
           "#ab63fa",
           "#FFA15A",
           "#19d3f3",
           "#FF6692",
           "#B6E880",
           "#FF97FF",
           "#FECB52"
          ],
          "font": {
           "color": "#2a3f5f"
          },
          "geo": {
           "bgcolor": "white",
           "lakecolor": "white",
           "landcolor": "#E5ECF6",
           "showlakes": true,
           "showland": true,
           "subunitcolor": "white"
          },
          "hoverlabel": {
           "align": "left"
          },
          "hovermode": "closest",
          "mapbox": {
           "style": "light"
          },
          "paper_bgcolor": "white",
          "plot_bgcolor": "#E5ECF6",
          "polar": {
           "angularaxis": {
            "gridcolor": "white",
            "linecolor": "white",
            "ticks": ""
           },
           "bgcolor": "#E5ECF6",
           "radialaxis": {
            "gridcolor": "white",
            "linecolor": "white",
            "ticks": ""
           }
          },
          "scene": {
           "xaxis": {
            "backgroundcolor": "#E5ECF6",
            "gridcolor": "white",
            "gridwidth": 2,
            "linecolor": "white",
            "showbackground": true,
            "ticks": "",
            "zerolinecolor": "white"
           },
           "yaxis": {
            "backgroundcolor": "#E5ECF6",
            "gridcolor": "white",
            "gridwidth": 2,
            "linecolor": "white",
            "showbackground": true,
            "ticks": "",
            "zerolinecolor": "white"
           },
           "zaxis": {
            "backgroundcolor": "#E5ECF6",
            "gridcolor": "white",
            "gridwidth": 2,
            "linecolor": "white",
            "showbackground": true,
            "ticks": "",
            "zerolinecolor": "white"
           }
          },
          "shapedefaults": {
           "line": {
            "color": "#2a3f5f"
           }
          },
          "ternary": {
           "aaxis": {
            "gridcolor": "white",
            "linecolor": "white",
            "ticks": ""
           },
           "baxis": {
            "gridcolor": "white",
            "linecolor": "white",
            "ticks": ""
           },
           "bgcolor": "#E5ECF6",
           "caxis": {
            "gridcolor": "white",
            "linecolor": "white",
            "ticks": ""
           }
          },
          "title": {
           "x": 0.05
          },
          "xaxis": {
           "automargin": true,
           "gridcolor": "white",
           "linecolor": "white",
           "ticks": "",
           "title": {
            "standoff": 15
           },
           "zerolinecolor": "white",
           "zerolinewidth": 2
          },
          "yaxis": {
           "automargin": true,
           "gridcolor": "white",
           "linecolor": "white",
           "ticks": "",
           "title": {
            "standoff": 15
           },
           "zerolinecolor": "white",
           "zerolinewidth": 2
          }
         }
        },
        "title": {
         "text": "Jo(h)ns in the U.S. House of Representatives"
        }
       }
      }
     },
     "metadata": {},
     "output_type": "display_data"
    }
   ],
   "source": [
    "plt_data = df_processed.loc[(~pd.isna(df_processed['is match'])) &\n",
    "                            (df_processed['is match'])]\n",
    "\n",
    "# Build the choropleth\n",
    "import plotly.express as px\n",
    "fig = px.choropleth(plt_data, \n",
    "    locations=plt_data['POSTAL ABBREVIATION'], \n",
    "    locationmode='USA-states',\n",
    "    color=plt_data['is match'],\n",
    "    scope=\"usa\",\n",
    "    labels={'is match':'Has a Jo(h)n',\n",
    "            'POSTAL ABBREVIATION':'State'},\n",
    "    title='Jo(h)ns in the U.S. House of Representatives'\n",
    ")\n",
    "fig.update_layout(margin={\"r\":0,\"t\":40,\"l\":0,\"b\":0})\n",
    "\n",
    "fig.show()"
   ]
  },
  {
   "cell_type": "markdown",
   "metadata": {},
   "source": [
    "## But Maybe...\n",
    "But maybe we're being a little presumptuous. Is there another first name that appears more frequently in the house?"
   ]
  },
  {
   "cell_type": "code",
   "execution_count": 18,
   "metadata": {},
   "outputs": [
    {
     "data": {
      "text/html": [
       "<div>\n",
       "<style scoped>\n",
       "    .dataframe tbody tr th:only-of-type {\n",
       "        vertical-align: middle;\n",
       "    }\n",
       "\n",
       "    .dataframe tbody tr th {\n",
       "        vertical-align: top;\n",
       "    }\n",
       "\n",
       "    .dataframe thead th {\n",
       "        text-align: right;\n",
       "    }\n",
       "</style>\n",
       "<table border=\"1\" class=\"dataframe\">\n",
       "  <thead>\n",
       "    <tr style=\"text-align: right;\">\n",
       "      <th></th>\n",
       "      <th>District</th>\n",
       "      <th>Member</th>\n",
       "      <th>Party</th>\n",
       "      <th>Assumed office</th>\n",
       "      <th>Born</th>\n",
       "      <th>State</th>\n",
       "      <th>age</th>\n",
       "      <th>Years in Office</th>\n",
       "      <th>is match</th>\n",
       "      <th>US STATE</th>\n",
       "      <th>POSTAL ABBREVIATION</th>\n",
       "    </tr>\n",
       "  </thead>\n",
       "  <tbody>\n",
       "    <tr>\n",
       "      <th>0</th>\n",
       "      <td>Alabama 1</td>\n",
       "      <td>Jerry Carl</td>\n",
       "      <td>Republican</td>\n",
       "      <td>2021</td>\n",
       "      <td>(age 64)</td>\n",
       "      <td>Alabama</td>\n",
       "      <td>64.0</td>\n",
       "      <td>1</td>\n",
       "      <td>False</td>\n",
       "      <td>Alabama</td>\n",
       "      <td>AL</td>\n",
       "    </tr>\n",
       "    <tr>\n",
       "      <th>1</th>\n",
       "      <td>Alabama 2</td>\n",
       "      <td>Barry Moore</td>\n",
       "      <td>Republican</td>\n",
       "      <td>2021</td>\n",
       "      <td>(age 56)</td>\n",
       "      <td>Alabama</td>\n",
       "      <td>56.0</td>\n",
       "      <td>1</td>\n",
       "      <td>False</td>\n",
       "      <td>Alabama</td>\n",
       "      <td>AL</td>\n",
       "    </tr>\n",
       "    <tr>\n",
       "      <th>2</th>\n",
       "      <td>Alabama 3</td>\n",
       "      <td>Mike Rogers</td>\n",
       "      <td>Republican</td>\n",
       "      <td>2003</td>\n",
       "      <td>(age 64)</td>\n",
       "      <td>Alabama</td>\n",
       "      <td>64.0</td>\n",
       "      <td>19</td>\n",
       "      <td>False</td>\n",
       "      <td>Alabama</td>\n",
       "      <td>AL</td>\n",
       "    </tr>\n",
       "    <tr>\n",
       "      <th>3</th>\n",
       "      <td>Alabama 4</td>\n",
       "      <td>Robert Aderholt</td>\n",
       "      <td>Republican</td>\n",
       "      <td>1997</td>\n",
       "      <td>(age 57)</td>\n",
       "      <td>Alabama</td>\n",
       "      <td>57.0</td>\n",
       "      <td>25</td>\n",
       "      <td>False</td>\n",
       "      <td>Alabama</td>\n",
       "      <td>AL</td>\n",
       "    </tr>\n",
       "    <tr>\n",
       "      <th>4</th>\n",
       "      <td>Alabama 5</td>\n",
       "      <td>Mo Brooks</td>\n",
       "      <td>Republican</td>\n",
       "      <td>2011</td>\n",
       "      <td>(age 68)</td>\n",
       "      <td>Alabama</td>\n",
       "      <td>68.0</td>\n",
       "      <td>11</td>\n",
       "      <td>False</td>\n",
       "      <td>Alabama</td>\n",
       "      <td>AL</td>\n",
       "    </tr>\n",
       "    <tr>\n",
       "      <th>...</th>\n",
       "      <td>...</td>\n",
       "      <td>...</td>\n",
       "      <td>...</td>\n",
       "      <td>...</td>\n",
       "      <td>...</td>\n",
       "      <td>...</td>\n",
       "      <td>...</td>\n",
       "      <td>...</td>\n",
       "      <td>...</td>\n",
       "      <td>...</td>\n",
       "      <td>...</td>\n",
       "    </tr>\n",
       "    <tr>\n",
       "      <th>430</th>\n",
       "      <td>Wisconsin 5</td>\n",
       "      <td>Scott Fitzgerald</td>\n",
       "      <td>Republican</td>\n",
       "      <td>2021</td>\n",
       "      <td>(age 58)</td>\n",
       "      <td>Wisconsin</td>\n",
       "      <td>58.0</td>\n",
       "      <td>1</td>\n",
       "      <td>False</td>\n",
       "      <td>Wisconsin</td>\n",
       "      <td>WI</td>\n",
       "    </tr>\n",
       "    <tr>\n",
       "      <th>431</th>\n",
       "      <td>Wisconsin 6</td>\n",
       "      <td>Glenn Grothman</td>\n",
       "      <td>Republican</td>\n",
       "      <td>2015</td>\n",
       "      <td>(age 67)</td>\n",
       "      <td>Wisconsin</td>\n",
       "      <td>67.0</td>\n",
       "      <td>7</td>\n",
       "      <td>False</td>\n",
       "      <td>Wisconsin</td>\n",
       "      <td>WI</td>\n",
       "    </tr>\n",
       "    <tr>\n",
       "      <th>432</th>\n",
       "      <td>Wisconsin 7</td>\n",
       "      <td>Tom Tiffany</td>\n",
       "      <td>Republican</td>\n",
       "      <td>2020</td>\n",
       "      <td>(age 64)</td>\n",
       "      <td>Wisconsin</td>\n",
       "      <td>64.0</td>\n",
       "      <td>2</td>\n",
       "      <td>False</td>\n",
       "      <td>Wisconsin</td>\n",
       "      <td>WI</td>\n",
       "    </tr>\n",
       "    <tr>\n",
       "      <th>433</th>\n",
       "      <td>Wisconsin 8</td>\n",
       "      <td>Mike Gallagher</td>\n",
       "      <td>Republican</td>\n",
       "      <td>2017</td>\n",
       "      <td>(age 38)</td>\n",
       "      <td>Wisconsin</td>\n",
       "      <td>38.0</td>\n",
       "      <td>5</td>\n",
       "      <td>False</td>\n",
       "      <td>Wisconsin</td>\n",
       "      <td>WI</td>\n",
       "    </tr>\n",
       "    <tr>\n",
       "      <th>434</th>\n",
       "      <td>Wyoming at-large</td>\n",
       "      <td>Liz Cheney</td>\n",
       "      <td>Republican</td>\n",
       "      <td>2017</td>\n",
       "      <td>(age 56)</td>\n",
       "      <td>Wyoming</td>\n",
       "      <td>56.0</td>\n",
       "      <td>5</td>\n",
       "      <td>False</td>\n",
       "      <td>Wyoming</td>\n",
       "      <td>WY</td>\n",
       "    </tr>\n",
       "  </tbody>\n",
       "</table>\n",
       "<p>435 rows × 11 columns</p>\n",
       "</div>"
      ],
      "text/plain": [
       "             District            Member       Party Assumed office      Born  \\\n",
       "0           Alabama 1        Jerry Carl  Republican           2021  (age 64)   \n",
       "1           Alabama 2       Barry Moore  Republican           2021  (age 56)   \n",
       "2           Alabama 3       Mike Rogers  Republican           2003  (age 64)   \n",
       "3           Alabama 4   Robert Aderholt  Republican           1997  (age 57)   \n",
       "4           Alabama 5         Mo Brooks  Republican           2011  (age 68)   \n",
       "..                ...               ...         ...            ...       ...   \n",
       "430       Wisconsin 5  Scott Fitzgerald  Republican           2021  (age 58)   \n",
       "431       Wisconsin 6    Glenn Grothman  Republican           2015  (age 67)   \n",
       "432       Wisconsin 7       Tom Tiffany  Republican           2020  (age 64)   \n",
       "433       Wisconsin 8    Mike Gallagher  Republican           2017  (age 38)   \n",
       "434  Wyoming at-large        Liz Cheney  Republican           2017  (age 56)   \n",
       "\n",
       "         State   age Years in Office is match   US STATE POSTAL ABBREVIATION  \n",
       "0      Alabama  64.0               1    False    Alabama                  AL  \n",
       "1      Alabama  56.0               1    False    Alabama                  AL  \n",
       "2      Alabama  64.0              19    False    Alabama                  AL  \n",
       "3      Alabama  57.0              25    False    Alabama                  AL  \n",
       "4      Alabama  68.0              11    False    Alabama                  AL  \n",
       "..         ...   ...             ...      ...        ...                 ...  \n",
       "430  Wisconsin  58.0               1    False  Wisconsin                  WI  \n",
       "431  Wisconsin  67.0               7    False  Wisconsin                  WI  \n",
       "432  Wisconsin  64.0               2    False  Wisconsin                  WI  \n",
       "433  Wisconsin  38.0               5    False  Wisconsin                  WI  \n",
       "434    Wyoming  56.0               5    False    Wyoming                  WY  \n",
       "\n",
       "[435 rows x 11 columns]"
      ]
     },
     "execution_count": 18,
     "metadata": {},
     "output_type": "execute_result"
    }
   ],
   "source": [
    "df_processed"
   ]
  },
  {
   "cell_type": "code",
   "execution_count": 19,
   "metadata": {},
   "outputs": [
    {
     "data": {
      "text/html": [
       "<div>\n",
       "<style scoped>\n",
       "    .dataframe tbody tr th:only-of-type {\n",
       "        vertical-align: middle;\n",
       "    }\n",
       "\n",
       "    .dataframe tbody tr th {\n",
       "        vertical-align: top;\n",
       "    }\n",
       "\n",
       "    .dataframe thead th {\n",
       "        text-align: right;\n",
       "    }\n",
       "</style>\n",
       "<table border=\"1\" class=\"dataframe\">\n",
       "  <thead>\n",
       "    <tr style=\"text-align: right;\">\n",
       "      <th></th>\n",
       "      <th>District</th>\n",
       "      <th>Member</th>\n",
       "      <th>Party</th>\n",
       "      <th>Assumed office</th>\n",
       "      <th>Born</th>\n",
       "      <th>State</th>\n",
       "      <th>age</th>\n",
       "      <th>Years in Office</th>\n",
       "      <th>is match</th>\n",
       "      <th>US STATE</th>\n",
       "      <th>POSTAL ABBREVIATION</th>\n",
       "      <th>First Name</th>\n",
       "    </tr>\n",
       "  </thead>\n",
       "  <tbody>\n",
       "    <tr>\n",
       "      <th>99</th>\n",
       "      <td>Florida 13</td>\n",
       "      <td>NaN</td>\n",
       "      <td>NaN</td>\n",
       "      <td>NaN</td>\n",
       "      <td>NaN</td>\n",
       "      <td>Florida</td>\n",
       "      <td>NaN</td>\n",
       "      <td>NaN</td>\n",
       "      <td>NaN</td>\n",
       "      <td>Florida</td>\n",
       "      <td>FL</td>\n",
       "      <td>NaN</td>\n",
       "    </tr>\n",
       "    <tr>\n",
       "      <th>108</th>\n",
       "      <td>Florida 22</td>\n",
       "      <td>NaN</td>\n",
       "      <td>NaN</td>\n",
       "      <td>NaN</td>\n",
       "      <td>NaN</td>\n",
       "      <td>Florida</td>\n",
       "      <td>NaN</td>\n",
       "      <td>NaN</td>\n",
       "      <td>NaN</td>\n",
       "      <td>Florida</td>\n",
       "      <td>FL</td>\n",
       "      <td>NaN</td>\n",
       "    </tr>\n",
       "    <tr>\n",
       "      <th>151</th>\n",
       "      <td>Indiana 2</td>\n",
       "      <td>NaN</td>\n",
       "      <td>NaN</td>\n",
       "      <td>NaN</td>\n",
       "      <td>NaN</td>\n",
       "      <td>Indiana</td>\n",
       "      <td>NaN</td>\n",
       "      <td>NaN</td>\n",
       "      <td>NaN</td>\n",
       "      <td>Indiana</td>\n",
       "      <td>IN</td>\n",
       "      <td>NaN</td>\n",
       "    </tr>\n",
       "  </tbody>\n",
       "</table>\n",
       "</div>"
      ],
      "text/plain": [
       "       District Member Party Assumed office Born    State  age  \\\n",
       "99   Florida 13    NaN   NaN            NaN  NaN  Florida  NaN   \n",
       "108  Florida 22    NaN   NaN            NaN  NaN  Florida  NaN   \n",
       "151   Indiana 2    NaN   NaN            NaN  NaN  Indiana  NaN   \n",
       "\n",
       "    Years in Office is match US STATE POSTAL ABBREVIATION First Name  \n",
       "99              NaN      NaN  Florida                  FL        NaN  \n",
       "108             NaN      NaN  Florida                  FL        NaN  \n",
       "151             NaN      NaN  Indiana                  IN        NaN  "
      ]
     },
     "execution_count": 19,
     "metadata": {},
     "output_type": "execute_result"
    }
   ],
   "source": [
    "# Get the first names of the representatives\n",
    "rows = ~pd.isna(df_processed['Member'])\n",
    "df_processed.loc[rows,'First Name'] = df_processed.loc[rows,'Member'].str \\\n",
    "                                         .split(' ') \\\n",
    "                                         .map(lambda x: x[0])\n",
    "df_processed.loc[pd.isna(df_processed['First Name'])]"
   ]
  },
  {
   "cell_type": "code",
   "execution_count": 20,
   "metadata": {},
   "outputs": [
    {
     "data": {
      "text/html": [
       "<div>\n",
       "<style scoped>\n",
       "    .dataframe tbody tr th:only-of-type {\n",
       "        vertical-align: middle;\n",
       "    }\n",
       "\n",
       "    .dataframe tbody tr th {\n",
       "        vertical-align: top;\n",
       "    }\n",
       "\n",
       "    .dataframe thead th {\n",
       "        text-align: right;\n",
       "    }\n",
       "</style>\n",
       "<table border=\"1\" class=\"dataframe\">\n",
       "  <thead>\n",
       "    <tr style=\"text-align: right;\">\n",
       "      <th></th>\n",
       "      <th>First Name</th>\n",
       "      <th>count</th>\n",
       "    </tr>\n",
       "  </thead>\n",
       "  <tbody>\n",
       "    <tr>\n",
       "      <th>0</th>\n",
       "      <td>Mike</td>\n",
       "      <td>14</td>\n",
       "    </tr>\n",
       "    <tr>\n",
       "      <th>1</th>\n",
       "      <td>John</td>\n",
       "      <td>11</td>\n",
       "    </tr>\n",
       "    <tr>\n",
       "      <th>2</th>\n",
       "      <td>David</td>\n",
       "      <td>10</td>\n",
       "    </tr>\n",
       "    <tr>\n",
       "      <th>3</th>\n",
       "      <td>Jim</td>\n",
       "      <td>8</td>\n",
       "    </tr>\n",
       "    <tr>\n",
       "      <th>4</th>\n",
       "      <td>Tom</td>\n",
       "      <td>7</td>\n",
       "    </tr>\n",
       "    <tr>\n",
       "      <th>...</th>\n",
       "      <td>...</td>\n",
       "      <td>...</td>\n",
       "    </tr>\n",
       "    <tr>\n",
       "      <th>268</th>\n",
       "      <td>Gwen</td>\n",
       "      <td>1</td>\n",
       "    </tr>\n",
       "    <tr>\n",
       "      <th>269</th>\n",
       "      <td>Hakeem</td>\n",
       "      <td>1</td>\n",
       "    </tr>\n",
       "    <tr>\n",
       "      <th>270</th>\n",
       "      <td>Hal</td>\n",
       "      <td>1</td>\n",
       "    </tr>\n",
       "    <tr>\n",
       "      <th>271</th>\n",
       "      <td>Haley</td>\n",
       "      <td>1</td>\n",
       "    </tr>\n",
       "    <tr>\n",
       "      <th>272</th>\n",
       "      <td>Zoe</td>\n",
       "      <td>1</td>\n",
       "    </tr>\n",
       "  </tbody>\n",
       "</table>\n",
       "<p>273 rows × 2 columns</p>\n",
       "</div>"
      ],
      "text/plain": [
       "    First Name  count\n",
       "0         Mike     14\n",
       "1         John     11\n",
       "2        David     10\n",
       "3          Jim      8\n",
       "4          Tom      7\n",
       "..         ...    ...\n",
       "268       Gwen      1\n",
       "269     Hakeem      1\n",
       "270        Hal      1\n",
       "271      Haley      1\n",
       "272        Zoe      1\n",
       "\n",
       "[273 rows x 2 columns]"
      ]
     },
     "execution_count": 20,
     "metadata": {},
     "output_type": "execute_result"
    }
   ],
   "source": [
    "fn_count = df_processed.groupby('First Name') \\\n",
    "                       .agg({'First Name': 'count'}) \\\n",
    "                       .rename(columns={'First Name': 'count'}) \\\n",
    "                       .sort_values('count', ascending=False) \\\n",
    "                       .reset_index()\n",
    "fn_count"
   ]
  },
  {
   "cell_type": "markdown",
   "metadata": {},
   "source": [
    "So 'John' actually gets beatten out by 'Mike' by 3 representatives! You know what that means: we need to go back and redo the analysis now, but check for 'Mike/Michael' pairs, as well as the 'David/Dave' combination for completeness"
   ]
  },
  {
   "cell_type": "code",
   "execution_count": 21,
   "metadata": {},
   "outputs": [
    {
     "data": {
      "text/html": [
       "<div>\n",
       "<style scoped>\n",
       "    .dataframe tbody tr th:only-of-type {\n",
       "        vertical-align: middle;\n",
       "    }\n",
       "\n",
       "    .dataframe tbody tr th {\n",
       "        vertical-align: top;\n",
       "    }\n",
       "\n",
       "    .dataframe thead th {\n",
       "        text-align: right;\n",
       "    }\n",
       "</style>\n",
       "<table border=\"1\" class=\"dataframe\">\n",
       "  <thead>\n",
       "    <tr style=\"text-align: right;\">\n",
       "      <th></th>\n",
       "      <th>First Name</th>\n",
       "      <th>count</th>\n",
       "    </tr>\n",
       "  </thead>\n",
       "  <tbody>\n",
       "    <tr>\n",
       "      <th>1</th>\n",
       "      <td>John</td>\n",
       "      <td>11</td>\n",
       "    </tr>\n",
       "  </tbody>\n",
       "</table>\n",
       "</div>"
      ],
      "text/plain": [
       "  First Name  count\n",
       "1       John     11"
      ]
     },
     "execution_count": 21,
     "metadata": {},
     "output_type": "execute_result"
    }
   ],
   "source": [
    "# Jon/John\n",
    "fn_count[[re.match(r'(Jon|John)', x) is not None for x in fn_count['First Name']]]"
   ]
  },
  {
   "cell_type": "code",
   "execution_count": 22,
   "metadata": {},
   "outputs": [
    {
     "data": {
      "text/html": [
       "<div>\n",
       "<style scoped>\n",
       "    .dataframe tbody tr th:only-of-type {\n",
       "        vertical-align: middle;\n",
       "    }\n",
       "\n",
       "    .dataframe tbody tr th {\n",
       "        vertical-align: top;\n",
       "    }\n",
       "\n",
       "    .dataframe thead th {\n",
       "        text-align: right;\n",
       "    }\n",
       "</style>\n",
       "<table border=\"1\" class=\"dataframe\">\n",
       "  <thead>\n",
       "    <tr style=\"text-align: right;\">\n",
       "      <th></th>\n",
       "      <th>First Name</th>\n",
       "      <th>count</th>\n",
       "    </tr>\n",
       "  </thead>\n",
       "  <tbody>\n",
       "    <tr>\n",
       "      <th>0</th>\n",
       "      <td>Mike</td>\n",
       "      <td>14</td>\n",
       "    </tr>\n",
       "    <tr>\n",
       "      <th>9</th>\n",
       "      <td>Michael</td>\n",
       "      <td>5</td>\n",
       "    </tr>\n",
       "    <tr>\n",
       "      <th>69</th>\n",
       "      <td>Michelle</td>\n",
       "      <td>2</td>\n",
       "    </tr>\n",
       "  </tbody>\n",
       "</table>\n",
       "</div>"
      ],
      "text/plain": [
       "   First Name  count\n",
       "0        Mike     14\n",
       "9     Michael      5\n",
       "69   Michelle      2"
      ]
     },
     "execution_count": 22,
     "metadata": {},
     "output_type": "execute_result"
    }
   ],
   "source": [
    "# Mike/Michael/Michelle/Michele\n",
    "fn_count[[re.match(r'(Mike|Mich[ae])', x) is not None for x in fn_count['First Name']]]"
   ]
  },
  {
   "cell_type": "code",
   "execution_count": 23,
   "metadata": {},
   "outputs": [
    {
     "data": {
      "text/html": [
       "<div>\n",
       "<style scoped>\n",
       "    .dataframe tbody tr th:only-of-type {\n",
       "        vertical-align: middle;\n",
       "    }\n",
       "\n",
       "    .dataframe tbody tr th {\n",
       "        vertical-align: top;\n",
       "    }\n",
       "\n",
       "    .dataframe thead th {\n",
       "        text-align: right;\n",
       "    }\n",
       "</style>\n",
       "<table border=\"1\" class=\"dataframe\">\n",
       "  <thead>\n",
       "    <tr style=\"text-align: right;\">\n",
       "      <th></th>\n",
       "      <th>First Name</th>\n",
       "      <th>count</th>\n",
       "    </tr>\n",
       "  </thead>\n",
       "  <tbody>\n",
       "    <tr>\n",
       "      <th>2</th>\n",
       "      <td>David</td>\n",
       "      <td>10</td>\n",
       "    </tr>\n",
       "  </tbody>\n",
       "</table>\n",
       "</div>"
      ],
      "text/plain": [
       "  First Name  count\n",
       "2      David     10"
      ]
     },
     "execution_count": 23,
     "metadata": {},
     "output_type": "execute_result"
    }
   ],
   "source": [
    "# David/Dave\n",
    "fn_count[[re.match(r'(Dav)', x) is not None for x in fn_count['First Name']]]"
   ]
  },
  {
   "cell_type": "code",
   "execution_count": 24,
   "metadata": {},
   "outputs": [
    {
     "data": {
      "text/html": [
       "<div>\n",
       "<style scoped>\n",
       "    .dataframe tbody tr th:only-of-type {\n",
       "        vertical-align: middle;\n",
       "    }\n",
       "\n",
       "    .dataframe tbody tr th {\n",
       "        vertical-align: top;\n",
       "    }\n",
       "\n",
       "    .dataframe thead th {\n",
       "        text-align: right;\n",
       "    }\n",
       "</style>\n",
       "<table border=\"1\" class=\"dataframe\">\n",
       "  <thead>\n",
       "    <tr style=\"text-align: right;\">\n",
       "      <th></th>\n",
       "      <th>First Name</th>\n",
       "      <th>count</th>\n",
       "    </tr>\n",
       "  </thead>\n",
       "  <tbody>\n",
       "    <tr>\n",
       "      <th>3</th>\n",
       "      <td>Jim</td>\n",
       "      <td>8</td>\n",
       "    </tr>\n",
       "    <tr>\n",
       "      <th>38</th>\n",
       "      <td>Jimmy</td>\n",
       "      <td>2</td>\n",
       "    </tr>\n",
       "    <tr>\n",
       "      <th>47</th>\n",
       "      <td>James</td>\n",
       "      <td>2</td>\n",
       "    </tr>\n",
       "  </tbody>\n",
       "</table>\n",
       "</div>"
      ],
      "text/plain": [
       "   First Name  count\n",
       "3         Jim      8\n",
       "38      Jimmy      2\n",
       "47      James      2"
      ]
     },
     "execution_count": 24,
     "metadata": {},
     "output_type": "execute_result"
    }
   ],
   "source": [
    "# Jim/James\n",
    "fn_count[[re.match(r'(Jim|James)', x) is not None for x in fn_count['First Name']]]"
   ]
  },
  {
   "cell_type": "markdown",
   "metadata": {},
   "source": [
    "So to summarize, we have TWO name groups that are more common than 'John':\n",
    "\n",
    "1. Mike/Michael/Michelle: 19\n",
    "1. Jim/Jimmy/James: 12\n",
    "1. John: 11\n",
    "1. David: 10\n",
    "\n",
    "I'm going to call this the 'Mikey' contingent :). Also, in case you're curious, there's no Michelle. Let's go ahead and generate the relevant plots for the Mikey contingent."
   ]
  },
  {
   "cell_type": "code",
   "execution_count": 25,
   "metadata": {},
   "outputs": [
    {
     "name": "stdout",
     "output_type": "stream",
     "text": [
      "21\n"
     ]
    },
    {
     "data": {
      "text/html": [
       "<div>\n",
       "<style scoped>\n",
       "    .dataframe tbody tr th:only-of-type {\n",
       "        vertical-align: middle;\n",
       "    }\n",
       "\n",
       "    .dataframe tbody tr th {\n",
       "        vertical-align: top;\n",
       "    }\n",
       "\n",
       "    .dataframe thead th {\n",
       "        text-align: right;\n",
       "    }\n",
       "</style>\n",
       "<table border=\"1\" class=\"dataframe\">\n",
       "  <thead>\n",
       "    <tr style=\"text-align: right;\">\n",
       "      <th></th>\n",
       "      <th>District</th>\n",
       "      <th>Member</th>\n",
       "      <th>Party</th>\n",
       "      <th>Assumed office</th>\n",
       "      <th>Born</th>\n",
       "      <th>State</th>\n",
       "      <th>age</th>\n",
       "      <th>Years in Office</th>\n",
       "      <th>is match</th>\n",
       "      <th>US STATE</th>\n",
       "      <th>POSTAL ABBREVIATION</th>\n",
       "      <th>First Name</th>\n",
       "    </tr>\n",
       "  </thead>\n",
       "  <tbody>\n",
       "    <tr>\n",
       "      <th>2</th>\n",
       "      <td>Alabama 3</td>\n",
       "      <td>Mike Rogers</td>\n",
       "      <td>Republican</td>\n",
       "      <td>2003</td>\n",
       "      <td>(age 64)</td>\n",
       "      <td>Alabama</td>\n",
       "      <td>64.0</td>\n",
       "      <td>19</td>\n",
       "      <td>True</td>\n",
       "      <td>Alabama</td>\n",
       "      <td>AL</td>\n",
       "      <td>Mike</td>\n",
       "    </tr>\n",
       "    <tr>\n",
       "      <th>25</th>\n",
       "      <td>California 5</td>\n",
       "      <td>Mike Thompson</td>\n",
       "      <td>Democratic</td>\n",
       "      <td>1999</td>\n",
       "      <td>(age 71)</td>\n",
       "      <td>California</td>\n",
       "      <td>71.0</td>\n",
       "      <td>23</td>\n",
       "      <td>True</td>\n",
       "      <td>California</td>\n",
       "      <td>CA</td>\n",
       "      <td>Mike</td>\n",
       "    </tr>\n",
       "    <tr>\n",
       "      <th>45</th>\n",
       "      <td>California 25</td>\n",
       "      <td>Mike Garcia</td>\n",
       "      <td>Republican</td>\n",
       "      <td>2020</td>\n",
       "      <td>(age 46)</td>\n",
       "      <td>California</td>\n",
       "      <td>46.0</td>\n",
       "      <td>2</td>\n",
       "      <td>True</td>\n",
       "      <td>California</td>\n",
       "      <td>CA</td>\n",
       "      <td>Mike</td>\n",
       "    </tr>\n",
       "    <tr>\n",
       "      <th>68</th>\n",
       "      <td>California 48</td>\n",
       "      <td>Michelle Steel</td>\n",
       "      <td>Republican</td>\n",
       "      <td>2021</td>\n",
       "      <td>(age 67)</td>\n",
       "      <td>California</td>\n",
       "      <td>67.0</td>\n",
       "      <td>1</td>\n",
       "      <td>True</td>\n",
       "      <td>California</td>\n",
       "      <td>CA</td>\n",
       "      <td>Michelle</td>\n",
       "    </tr>\n",
       "    <tr>\n",
       "      <th>69</th>\n",
       "      <td>California 49</td>\n",
       "      <td>Mike Levin</td>\n",
       "      <td>Democratic</td>\n",
       "      <td>2019</td>\n",
       "      <td>(age 44)</td>\n",
       "      <td>California</td>\n",
       "      <td>44.0</td>\n",
       "      <td>3</td>\n",
       "      <td>True</td>\n",
       "      <td>California</td>\n",
       "      <td>CA</td>\n",
       "      <td>Mike</td>\n",
       "    </tr>\n",
       "    <tr>\n",
       "      <th>92</th>\n",
       "      <td>Florida 6</td>\n",
       "      <td>Michael Waltz</td>\n",
       "      <td>Republican</td>\n",
       "      <td>2019</td>\n",
       "      <td>(age 48)</td>\n",
       "      <td>Florida</td>\n",
       "      <td>48.0</td>\n",
       "      <td>3</td>\n",
       "      <td>True</td>\n",
       "      <td>Florida</td>\n",
       "      <td>FL</td>\n",
       "      <td>Michael</td>\n",
       "    </tr>\n",
       "    <tr>\n",
       "      <th>131</th>\n",
       "      <td>Idaho 2</td>\n",
       "      <td>Mike Simpson</td>\n",
       "      <td>Republican</td>\n",
       "      <td>1999</td>\n",
       "      <td>(age 72)</td>\n",
       "      <td>Idaho</td>\n",
       "      <td>72.0</td>\n",
       "      <td>23</td>\n",
       "      <td>True</td>\n",
       "      <td>Idaho</td>\n",
       "      <td>ID</td>\n",
       "      <td>Mike</td>\n",
       "    </tr>\n",
       "    <tr>\n",
       "      <th>136</th>\n",
       "      <td>Illinois 5</td>\n",
       "      <td>Mike Quigley</td>\n",
       "      <td>Democratic</td>\n",
       "      <td>2009</td>\n",
       "      <td>(age 64)</td>\n",
       "      <td>Illinois</td>\n",
       "      <td>64.0</td>\n",
       "      <td>13</td>\n",
       "      <td>True</td>\n",
       "      <td>Illinois</td>\n",
       "      <td>IL</td>\n",
       "      <td>Mike</td>\n",
       "    </tr>\n",
       "    <tr>\n",
       "      <th>143</th>\n",
       "      <td>Illinois 12</td>\n",
       "      <td>Mike Bost</td>\n",
       "      <td>Republican</td>\n",
       "      <td>2015</td>\n",
       "      <td>(age 61)</td>\n",
       "      <td>Illinois</td>\n",
       "      <td>61.0</td>\n",
       "      <td>7</td>\n",
       "      <td>True</td>\n",
       "      <td>Illinois</td>\n",
       "      <td>IL</td>\n",
       "      <td>Mike</td>\n",
       "    </tr>\n",
       "    <tr>\n",
       "      <th>176</th>\n",
       "      <td>Louisiana 4</td>\n",
       "      <td>Mike Johnson</td>\n",
       "      <td>Republican</td>\n",
       "      <td>2017</td>\n",
       "      <td>(age 50)</td>\n",
       "      <td>Louisiana</td>\n",
       "      <td>50.0</td>\n",
       "      <td>5</td>\n",
       "      <td>True</td>\n",
       "      <td>Louisiana</td>\n",
       "      <td>LA</td>\n",
       "      <td>Mike</td>\n",
       "    </tr>\n",
       "    <tr>\n",
       "      <th>218</th>\n",
       "      <td>Minnesota 7</td>\n",
       "      <td>Michelle Fischbach</td>\n",
       "      <td>Republican</td>\n",
       "      <td>2021</td>\n",
       "      <td>(age 57)</td>\n",
       "      <td>Minnesota</td>\n",
       "      <td>57.0</td>\n",
       "      <td>1</td>\n",
       "      <td>True</td>\n",
       "      <td>Minnesota</td>\n",
       "      <td>MN</td>\n",
       "      <td>Michelle</td>\n",
       "    </tr>\n",
       "    <tr>\n",
       "      <th>222</th>\n",
       "      <td>Mississippi 3</td>\n",
       "      <td>Michael Guest</td>\n",
       "      <td>Republican</td>\n",
       "      <td>2019</td>\n",
       "      <td>(age 52)</td>\n",
       "      <td>Mississippi</td>\n",
       "      <td>52.0</td>\n",
       "      <td>3</td>\n",
       "      <td>True</td>\n",
       "      <td>Mississippi</td>\n",
       "      <td>MS</td>\n",
       "      <td>Michael</td>\n",
       "    </tr>\n",
       "    <tr>\n",
       "      <th>233</th>\n",
       "      <td>Nebraska 1</td>\n",
       "      <td>Mike Flood</td>\n",
       "      <td>Republican</td>\n",
       "      <td>2022</td>\n",
       "      <td>(age 47)</td>\n",
       "      <td>Nebraska</td>\n",
       "      <td>47.0</td>\n",
       "      <td>0</td>\n",
       "      <td>True</td>\n",
       "      <td>Nebraska</td>\n",
       "      <td>NE</td>\n",
       "      <td>Mike</td>\n",
       "    </tr>\n",
       "    <tr>\n",
       "      <th>307</th>\n",
       "      <td>Ohio 10</td>\n",
       "      <td>Mike Turner</td>\n",
       "      <td>Republican</td>\n",
       "      <td>2003</td>\n",
       "      <td>(age 62)</td>\n",
       "      <td>Ohio</td>\n",
       "      <td>62.0</td>\n",
       "      <td>19</td>\n",
       "      <td>True</td>\n",
       "      <td>Ohio</td>\n",
       "      <td>OH</td>\n",
       "      <td>Mike</td>\n",
       "    </tr>\n",
       "    <tr>\n",
       "      <th>312</th>\n",
       "      <td>Ohio 15</td>\n",
       "      <td>Mike Carey</td>\n",
       "      <td>Republican</td>\n",
       "      <td>2021</td>\n",
       "      <td>(age 51)</td>\n",
       "      <td>Ohio</td>\n",
       "      <td>51.0</td>\n",
       "      <td>1</td>\n",
       "      <td>True</td>\n",
       "      <td>Ohio</td>\n",
       "      <td>OH</td>\n",
       "      <td>Mike</td>\n",
       "    </tr>\n",
       "    <tr>\n",
       "      <th>339</th>\n",
       "      <td>Pennsylvania 16</td>\n",
       "      <td>Mike Kelly</td>\n",
       "      <td>Republican</td>\n",
       "      <td>2011</td>\n",
       "      <td>(age 74)</td>\n",
       "      <td>Pennsylvania</td>\n",
       "      <td>74.0</td>\n",
       "      <td>11</td>\n",
       "      <td>True</td>\n",
       "      <td>Pennsylvania</td>\n",
       "      <td>PA</td>\n",
       "      <td>Mike</td>\n",
       "    </tr>\n",
       "    <tr>\n",
       "      <th>341</th>\n",
       "      <td>Pennsylvania 18</td>\n",
       "      <td>Mike Doyle</td>\n",
       "      <td>Democratic</td>\n",
       "      <td>1995</td>\n",
       "      <td>(age 69)</td>\n",
       "      <td>Pennsylvania</td>\n",
       "      <td>69.0</td>\n",
       "      <td>27</td>\n",
       "      <td>True</td>\n",
       "      <td>Pennsylvania</td>\n",
       "      <td>PA</td>\n",
       "      <td>Mike</td>\n",
       "    </tr>\n",
       "    <tr>\n",
       "      <th>370</th>\n",
       "      <td>Texas 10</td>\n",
       "      <td>Michael McCaul</td>\n",
       "      <td>Republican</td>\n",
       "      <td>2005</td>\n",
       "      <td>(age 60)</td>\n",
       "      <td>Texas</td>\n",
       "      <td>60.0</td>\n",
       "      <td>17</td>\n",
       "      <td>True</td>\n",
       "      <td>Texas</td>\n",
       "      <td>TX</td>\n",
       "      <td>Michael</td>\n",
       "    </tr>\n",
       "    <tr>\n",
       "      <th>386</th>\n",
       "      <td>Texas 26</td>\n",
       "      <td>Michael C. Burgess</td>\n",
       "      <td>Republican</td>\n",
       "      <td>2003</td>\n",
       "      <td>(age 71)</td>\n",
       "      <td>Texas</td>\n",
       "      <td>71.0</td>\n",
       "      <td>19</td>\n",
       "      <td>True</td>\n",
       "      <td>Texas</td>\n",
       "      <td>TX</td>\n",
       "      <td>Michael</td>\n",
       "    </tr>\n",
       "    <tr>\n",
       "      <th>387</th>\n",
       "      <td>Texas 27</td>\n",
       "      <td>Michael Cloud</td>\n",
       "      <td>Republican</td>\n",
       "      <td>2018</td>\n",
       "      <td>(age 47)</td>\n",
       "      <td>Texas</td>\n",
       "      <td>47.0</td>\n",
       "      <td>4</td>\n",
       "      <td>True</td>\n",
       "      <td>Texas</td>\n",
       "      <td>TX</td>\n",
       "      <td>Michael</td>\n",
       "    </tr>\n",
       "    <tr>\n",
       "      <th>433</th>\n",
       "      <td>Wisconsin 8</td>\n",
       "      <td>Mike Gallagher</td>\n",
       "      <td>Republican</td>\n",
       "      <td>2017</td>\n",
       "      <td>(age 38)</td>\n",
       "      <td>Wisconsin</td>\n",
       "      <td>38.0</td>\n",
       "      <td>5</td>\n",
       "      <td>True</td>\n",
       "      <td>Wisconsin</td>\n",
       "      <td>WI</td>\n",
       "      <td>Mike</td>\n",
       "    </tr>\n",
       "  </tbody>\n",
       "</table>\n",
       "</div>"
      ],
      "text/plain": [
       "            District              Member       Party Assumed office      Born  \\\n",
       "2          Alabama 3         Mike Rogers  Republican           2003  (age 64)   \n",
       "25      California 5       Mike Thompson  Democratic           1999  (age 71)   \n",
       "45     California 25         Mike Garcia  Republican           2020  (age 46)   \n",
       "68     California 48      Michelle Steel  Republican           2021  (age 67)   \n",
       "69     California 49          Mike Levin  Democratic           2019  (age 44)   \n",
       "92         Florida 6       Michael Waltz  Republican           2019  (age 48)   \n",
       "131          Idaho 2        Mike Simpson  Republican           1999  (age 72)   \n",
       "136       Illinois 5        Mike Quigley  Democratic           2009  (age 64)   \n",
       "143      Illinois 12           Mike Bost  Republican           2015  (age 61)   \n",
       "176      Louisiana 4        Mike Johnson  Republican           2017  (age 50)   \n",
       "218      Minnesota 7  Michelle Fischbach  Republican           2021  (age 57)   \n",
       "222    Mississippi 3       Michael Guest  Republican           2019  (age 52)   \n",
       "233       Nebraska 1          Mike Flood  Republican           2022  (age 47)   \n",
       "307          Ohio 10         Mike Turner  Republican           2003  (age 62)   \n",
       "312          Ohio 15          Mike Carey  Republican           2021  (age 51)   \n",
       "339  Pennsylvania 16          Mike Kelly  Republican           2011  (age 74)   \n",
       "341  Pennsylvania 18          Mike Doyle  Democratic           1995  (age 69)   \n",
       "370         Texas 10      Michael McCaul  Republican           2005  (age 60)   \n",
       "386         Texas 26  Michael C. Burgess  Republican           2003  (age 71)   \n",
       "387         Texas 27       Michael Cloud  Republican           2018  (age 47)   \n",
       "433      Wisconsin 8      Mike Gallagher  Republican           2017  (age 38)   \n",
       "\n",
       "            State   age Years in Office is match      US STATE  \\\n",
       "2         Alabama  64.0              19     True       Alabama   \n",
       "25     California  71.0              23     True    California   \n",
       "45     California  46.0               2     True    California   \n",
       "68     California  67.0               1     True    California   \n",
       "69     California  44.0               3     True    California   \n",
       "92        Florida  48.0               3     True       Florida   \n",
       "131         Idaho  72.0              23     True         Idaho   \n",
       "136      Illinois  64.0              13     True      Illinois   \n",
       "143      Illinois  61.0               7     True      Illinois   \n",
       "176     Louisiana  50.0               5     True     Louisiana   \n",
       "218     Minnesota  57.0               1     True     Minnesota   \n",
       "222   Mississippi  52.0               3     True   Mississippi   \n",
       "233      Nebraska  47.0               0     True      Nebraska   \n",
       "307          Ohio  62.0              19     True          Ohio   \n",
       "312          Ohio  51.0               1     True          Ohio   \n",
       "339  Pennsylvania  74.0              11     True  Pennsylvania   \n",
       "341  Pennsylvania  69.0              27     True  Pennsylvania   \n",
       "370         Texas  60.0              17     True         Texas   \n",
       "386         Texas  71.0              19     True         Texas   \n",
       "387         Texas  47.0               4     True         Texas   \n",
       "433     Wisconsin  38.0               5     True     Wisconsin   \n",
       "\n",
       "    POSTAL ABBREVIATION First Name  \n",
       "2                    AL       Mike  \n",
       "25                   CA       Mike  \n",
       "45                   CA       Mike  \n",
       "68                   CA   Michelle  \n",
       "69                   CA       Mike  \n",
       "92                   FL    Michael  \n",
       "131                  ID       Mike  \n",
       "136                  IL       Mike  \n",
       "143                  IL       Mike  \n",
       "176                  LA       Mike  \n",
       "218                  MN   Michelle  \n",
       "222                  MS    Michael  \n",
       "233                  NE       Mike  \n",
       "307                  OH       Mike  \n",
       "312                  OH       Mike  \n",
       "339                  PA       Mike  \n",
       "341                  PA       Mike  \n",
       "370                  TX    Michael  \n",
       "386                  TX    Michael  \n",
       "387                  TX    Michael  \n",
       "433                  WI       Mike  "
      ]
     },
     "execution_count": 25,
     "metadata": {},
     "output_type": "execute_result"
    }
   ],
   "source": [
    "# Get the data on the Mikey contingent\n",
    "match_str = r'(Mike|Mich[ae])'\n",
    "df_processed.loc[rows,'is match'] = df_processed.loc[rows,'Member'] \\\n",
    "                                                .map(lambda x: re.match(match_str, x) is not None,\n",
    "                                                     na_action='ignore') \\\n",
    "                                                .drop(columns='Born')\n",
    "print(df_processed[df_processed['is match'] & ~pd.isna(df_processed['is match'])].shape[0])                                                  \n",
    "plt_data = df_processed[df_processed['is match'] & ~pd.isna(df_processed['is match'])]\n",
    "plt_data"
   ]
  },
  {
   "cell_type": "code",
   "execution_count": 26,
   "metadata": {},
   "outputs": [
    {
     "data": {
      "text/plain": [
       "[Text(0.5, 1.0, 'Mikeys in the House by Years in Office')]"
      ]
     },
     "execution_count": 26,
     "metadata": {},
     "output_type": "execute_result"
    },
    {
     "data": {
      "image/png": "[encoded data removed]",
      "text/plain": [
       "<Figure size 640x480 with 1 Axes>"
      ]
     },
     "metadata": {},
     "output_type": "display_data"
    }
   ],
   "source": [
    "sns.histplot(data=plt_data, \n",
    "             x=\"Years in Office\", \n",
    "             hue='Party',\n",
    "             multiple='stack',\n",
    "             bins = range(0,50,2),\n",
    "             palette={\n",
    "                'Republican': 'tab:red',\n",
    "                'Democratic': 'tab:blue',\n",
    "                'Independent': 'tab:green'\n",
    "             }) \\\n",
    "   .set(title='Mikeys in the House by Years in Office')"
   ]
  },
  {
   "cell_type": "markdown",
   "metadata": {},
   "source": [
    "Very Republican lean to the Mikey contingent."
   ]
  },
  {
   "cell_type": "code",
   "execution_count": 27,
   "metadata": {},
   "outputs": [
    {
     "data": {
      "text/plain": [
       "[Text(0.5, 1.0, 'Mikeys in the House of Reps by Age')]"
      ]
     },
     "execution_count": 27,
     "metadata": {},
     "output_type": "execute_result"
    },
    {
     "data": {
      "image/png": "[encoded data removed]",
      "text/plain": [
       "<Figure size 640x480 with 1 Axes>"
      ]
     },
     "metadata": {},
     "output_type": "display_data"
    }
   ],
   "source": [
    "# How old are the Mikeys?\n",
    "sns.histplot(data=plt_data, \n",
    "             x=\"age\", \n",
    "             hue='Party',\n",
    "            #  kde=True,\n",
    "             multiple='stack',\n",
    "             bins = range(20,100,5),\n",
    "             palette={\n",
    "                'Republican': 'tab:red',\n",
    "                'Democratic': 'tab:blue',\n",
    "                'Independent': 'tab:green'\n",
    "             }) \\\n",
    "   .set(title='Mikeys in the House of Reps by Age')"
   ]
  },
  {
   "cell_type": "code",
   "execution_count": 28,
   "metadata": {},
   "outputs": [
    {
     "data": {
      "text/html": [
       "<div>\n",
       "<style scoped>\n",
       "    .dataframe tbody tr th:only-of-type {\n",
       "        vertical-align: middle;\n",
       "    }\n",
       "\n",
       "    .dataframe tbody tr th {\n",
       "        vertical-align: top;\n",
       "    }\n",
       "\n",
       "    .dataframe thead th {\n",
       "        text-align: right;\n",
       "    }\n",
       "</style>\n",
       "<table border=\"1\" class=\"dataframe\">\n",
       "  <thead>\n",
       "    <tr style=\"text-align: right;\">\n",
       "      <th></th>\n",
       "      <th>State</th>\n",
       "      <th>First Name</th>\n",
       "      <th>count</th>\n",
       "      <th>US STATE</th>\n",
       "      <th>POSTAL ABBREVIATION</th>\n",
       "    </tr>\n",
       "  </thead>\n",
       "  <tbody>\n",
       "    <tr>\n",
       "      <th>0</th>\n",
       "      <td>Alabama</td>\n",
       "      <td>Mike</td>\n",
       "      <td>1</td>\n",
       "      <td>Alabama</td>\n",
       "      <td>AL</td>\n",
       "    </tr>\n",
       "    <tr>\n",
       "      <th>1</th>\n",
       "      <td>California</td>\n",
       "      <td>Michelle</td>\n",
       "      <td>1</td>\n",
       "      <td>California</td>\n",
       "      <td>CA</td>\n",
       "    </tr>\n",
       "    <tr>\n",
       "      <th>2</th>\n",
       "      <td>California</td>\n",
       "      <td>Mike</td>\n",
       "      <td>3</td>\n",
       "      <td>California</td>\n",
       "      <td>CA</td>\n",
       "    </tr>\n",
       "    <tr>\n",
       "      <th>3</th>\n",
       "      <td>Florida</td>\n",
       "      <td>Michael</td>\n",
       "      <td>1</td>\n",
       "      <td>Florida</td>\n",
       "      <td>FL</td>\n",
       "    </tr>\n",
       "    <tr>\n",
       "      <th>4</th>\n",
       "      <td>Idaho</td>\n",
       "      <td>Mike</td>\n",
       "      <td>1</td>\n",
       "      <td>Idaho</td>\n",
       "      <td>ID</td>\n",
       "    </tr>\n",
       "    <tr>\n",
       "      <th>5</th>\n",
       "      <td>Illinois</td>\n",
       "      <td>Mike</td>\n",
       "      <td>2</td>\n",
       "      <td>Illinois</td>\n",
       "      <td>IL</td>\n",
       "    </tr>\n",
       "    <tr>\n",
       "      <th>6</th>\n",
       "      <td>Louisiana</td>\n",
       "      <td>Mike</td>\n",
       "      <td>1</td>\n",
       "      <td>Louisiana</td>\n",
       "      <td>LA</td>\n",
       "    </tr>\n",
       "    <tr>\n",
       "      <th>7</th>\n",
       "      <td>Minnesota</td>\n",
       "      <td>Michelle</td>\n",
       "      <td>1</td>\n",
       "      <td>Minnesota</td>\n",
       "      <td>MN</td>\n",
       "    </tr>\n",
       "    <tr>\n",
       "      <th>8</th>\n",
       "      <td>Mississippi</td>\n",
       "      <td>Michael</td>\n",
       "      <td>1</td>\n",
       "      <td>Mississippi</td>\n",
       "      <td>MS</td>\n",
       "    </tr>\n",
       "    <tr>\n",
       "      <th>9</th>\n",
       "      <td>Nebraska</td>\n",
       "      <td>Mike</td>\n",
       "      <td>1</td>\n",
       "      <td>Nebraska</td>\n",
       "      <td>NE</td>\n",
       "    </tr>\n",
       "    <tr>\n",
       "      <th>10</th>\n",
       "      <td>Ohio</td>\n",
       "      <td>Mike</td>\n",
       "      <td>2</td>\n",
       "      <td>Ohio</td>\n",
       "      <td>OH</td>\n",
       "    </tr>\n",
       "    <tr>\n",
       "      <th>11</th>\n",
       "      <td>Pennsylvania</td>\n",
       "      <td>Mike</td>\n",
       "      <td>2</td>\n",
       "      <td>Pennsylvania</td>\n",
       "      <td>PA</td>\n",
       "    </tr>\n",
       "    <tr>\n",
       "      <th>12</th>\n",
       "      <td>Texas</td>\n",
       "      <td>Michael</td>\n",
       "      <td>3</td>\n",
       "      <td>Texas</td>\n",
       "      <td>TX</td>\n",
       "    </tr>\n",
       "    <tr>\n",
       "      <th>13</th>\n",
       "      <td>Wisconsin</td>\n",
       "      <td>Mike</td>\n",
       "      <td>1</td>\n",
       "      <td>Wisconsin</td>\n",
       "      <td>WI</td>\n",
       "    </tr>\n",
       "  </tbody>\n",
       "</table>\n",
       "</div>"
      ],
      "text/plain": [
       "           State First Name  count      US STATE POSTAL ABBREVIATION\n",
       "0        Alabama       Mike      1       Alabama                  AL\n",
       "1     California   Michelle      1    California                  CA\n",
       "2     California       Mike      3    California                  CA\n",
       "3        Florida    Michael      1       Florida                  FL\n",
       "4          Idaho       Mike      1         Idaho                  ID\n",
       "5       Illinois       Mike      2      Illinois                  IL\n",
       "6      Louisiana       Mike      1     Louisiana                  LA\n",
       "7      Minnesota   Michelle      1     Minnesota                  MN\n",
       "8    Mississippi    Michael      1   Mississippi                  MS\n",
       "9       Nebraska       Mike      1      Nebraska                  NE\n",
       "10          Ohio       Mike      2          Ohio                  OH\n",
       "11  Pennsylvania       Mike      2  Pennsylvania                  PA\n",
       "12         Texas    Michael      3         Texas                  TX\n",
       "13     Wisconsin       Mike      1     Wisconsin                  WI"
      ]
     },
     "execution_count": 28,
     "metadata": {},
     "output_type": "execute_result"
    }
   ],
   "source": [
    "plt_data.loc[:,['State','First Name','District']] \\\n",
    "        .groupby(['State','First Name']) \\\n",
    "                    .agg('count') \\\n",
    "                    .rename(columns={'District':'count'}) \\\n",
    "                    .reset_index() \\\n",
    "                    .merge(postal, left_on='State',right_on='US STATE')"
   ]
  },
  {
   "cell_type": "code",
   "execution_count": 29,
   "metadata": {},
   "outputs": [
    {
     "data": {
      "text/html": [
       "<div>\n",
       "<style scoped>\n",
       "    .dataframe tbody tr th:only-of-type {\n",
       "        vertical-align: middle;\n",
       "    }\n",
       "\n",
       "    .dataframe tbody tr th {\n",
       "        vertical-align: top;\n",
       "    }\n",
       "\n",
       "    .dataframe thead th {\n",
       "        text-align: right;\n",
       "    }\n",
       "</style>\n",
       "<table border=\"1\" class=\"dataframe\">\n",
       "  <thead>\n",
       "    <tr style=\"text-align: right;\">\n",
       "      <th></th>\n",
       "      <th>State</th>\n",
       "      <th>Members</th>\n",
       "      <th>count</th>\n",
       "      <th>US STATE</th>\n",
       "      <th>POSTAL ABBREVIATION</th>\n",
       "    </tr>\n",
       "  </thead>\n",
       "  <tbody>\n",
       "    <tr>\n",
       "      <th>0</th>\n",
       "      <td>Alabama</td>\n",
       "      <td>Mike Rogers</td>\n",
       "      <td>1</td>\n",
       "      <td>Alabama</td>\n",
       "      <td>AL</td>\n",
       "    </tr>\n",
       "    <tr>\n",
       "      <th>1</th>\n",
       "      <td>California</td>\n",
       "      <td>Mike Thompson&lt;br&gt;Mike Garcia&lt;br&gt;Michelle Steel...</td>\n",
       "      <td>4</td>\n",
       "      <td>California</td>\n",
       "      <td>CA</td>\n",
       "    </tr>\n",
       "    <tr>\n",
       "      <th>2</th>\n",
       "      <td>Florida</td>\n",
       "      <td>Michael Waltz</td>\n",
       "      <td>1</td>\n",
       "      <td>Florida</td>\n",
       "      <td>FL</td>\n",
       "    </tr>\n",
       "    <tr>\n",
       "      <th>3</th>\n",
       "      <td>Idaho</td>\n",
       "      <td>Mike Simpson</td>\n",
       "      <td>1</td>\n",
       "      <td>Idaho</td>\n",
       "      <td>ID</td>\n",
       "    </tr>\n",
       "    <tr>\n",
       "      <th>4</th>\n",
       "      <td>Illinois</td>\n",
       "      <td>Mike Quigley&lt;br&gt;Mike Bost</td>\n",
       "      <td>2</td>\n",
       "      <td>Illinois</td>\n",
       "      <td>IL</td>\n",
       "    </tr>\n",
       "    <tr>\n",
       "      <th>5</th>\n",
       "      <td>Louisiana</td>\n",
       "      <td>Mike Johnson</td>\n",
       "      <td>1</td>\n",
       "      <td>Louisiana</td>\n",
       "      <td>LA</td>\n",
       "    </tr>\n",
       "    <tr>\n",
       "      <th>6</th>\n",
       "      <td>Minnesota</td>\n",
       "      <td>Michelle Fischbach</td>\n",
       "      <td>1</td>\n",
       "      <td>Minnesota</td>\n",
       "      <td>MN</td>\n",
       "    </tr>\n",
       "    <tr>\n",
       "      <th>7</th>\n",
       "      <td>Mississippi</td>\n",
       "      <td>Michael Guest</td>\n",
       "      <td>1</td>\n",
       "      <td>Mississippi</td>\n",
       "      <td>MS</td>\n",
       "    </tr>\n",
       "    <tr>\n",
       "      <th>8</th>\n",
       "      <td>Nebraska</td>\n",
       "      <td>Mike Flood</td>\n",
       "      <td>1</td>\n",
       "      <td>Nebraska</td>\n",
       "      <td>NE</td>\n",
       "    </tr>\n",
       "    <tr>\n",
       "      <th>9</th>\n",
       "      <td>Ohio</td>\n",
       "      <td>Mike Turner&lt;br&gt;Mike Carey</td>\n",
       "      <td>2</td>\n",
       "      <td>Ohio</td>\n",
       "      <td>OH</td>\n",
       "    </tr>\n",
       "    <tr>\n",
       "      <th>10</th>\n",
       "      <td>Pennsylvania</td>\n",
       "      <td>Mike Kelly&lt;br&gt;Mike Doyle</td>\n",
       "      <td>2</td>\n",
       "      <td>Pennsylvania</td>\n",
       "      <td>PA</td>\n",
       "    </tr>\n",
       "    <tr>\n",
       "      <th>11</th>\n",
       "      <td>Texas</td>\n",
       "      <td>Michael McCaul&lt;br&gt;Michael C. Burgess&lt;br&gt;Michae...</td>\n",
       "      <td>3</td>\n",
       "      <td>Texas</td>\n",
       "      <td>TX</td>\n",
       "    </tr>\n",
       "    <tr>\n",
       "      <th>12</th>\n",
       "      <td>Wisconsin</td>\n",
       "      <td>Mike Gallagher</td>\n",
       "      <td>1</td>\n",
       "      <td>Wisconsin</td>\n",
       "      <td>WI</td>\n",
       "    </tr>\n",
       "  </tbody>\n",
       "</table>\n",
       "</div>"
      ],
      "text/plain": [
       "           State                                            Members  count  \\\n",
       "0        Alabama                                        Mike Rogers      1   \n",
       "1     California  Mike Thompson<br>Mike Garcia<br>Michelle Steel...      4   \n",
       "2        Florida                                      Michael Waltz      1   \n",
       "3          Idaho                                       Mike Simpson      1   \n",
       "4       Illinois                          Mike Quigley<br>Mike Bost      2   \n",
       "5      Louisiana                                       Mike Johnson      1   \n",
       "6      Minnesota                                 Michelle Fischbach      1   \n",
       "7    Mississippi                                      Michael Guest      1   \n",
       "8       Nebraska                                         Mike Flood      1   \n",
       "9           Ohio                          Mike Turner<br>Mike Carey      2   \n",
       "10  Pennsylvania                           Mike Kelly<br>Mike Doyle      2   \n",
       "11         Texas  Michael McCaul<br>Michael C. Burgess<br>Michae...      3   \n",
       "12     Wisconsin                                     Mike Gallagher      1   \n",
       "\n",
       "        US STATE POSTAL ABBREVIATION  \n",
       "0        Alabama                  AL  \n",
       "1     California                  CA  \n",
       "2        Florida                  FL  \n",
       "3          Idaho                  ID  \n",
       "4       Illinois                  IL  \n",
       "5      Louisiana                  LA  \n",
       "6      Minnesota                  MN  \n",
       "7    Mississippi                  MS  \n",
       "8       Nebraska                  NE  \n",
       "9           Ohio                  OH  \n",
       "10  Pennsylvania                  PA  \n",
       "11         Texas                  TX  \n",
       "12     Wisconsin                  WI  "
      ]
     },
     "execution_count": 29,
     "metadata": {},
     "output_type": "execute_result"
    }
   ],
   "source": [
    "plt_data2 = {\n",
    "    'State': [],\n",
    "    'Members': [],\n",
    "    'count': []\n",
    "}\n",
    "for state in plt_data['State'].unique():\n",
    "    plt_data2['State'].append(state)\n",
    "    names = plt_data.loc[plt_data['State'] == state, 'Member'].values\n",
    "    plt_data2['Members'].append('<br>'.join(names))\n",
    "    plt_data2['count'].append(len(names))\n",
    "plt_data2 = pd.DataFrame(plt_data2).merge(postal, left_on='State',right_on='US STATE')\n",
    "plt_data2"
   ]
  },
  {
   "cell_type": "code",
   "execution_count": 30,
   "metadata": {},
   "outputs": [
    {
     "data": {
      "application/vnd.plotly.v1+json": {
       "config": {
        "plotlyServerURL": "https://plot.ly"
       },
       "data": [
        {
         "coloraxis": "coloraxis",
         "customdata": [
          [
           "Mike Rogers"
          ],
          [
           "Mike Thompson<br>Mike Garcia<br>Michelle Steel<br>Mike Levin"
          ],
          [
           "Michael Waltz"
          ],
          [
           "Mike Simpson"
          ],
          [
           "Mike Quigley<br>Mike Bost"
          ],
          [
           "Mike Johnson"
          ],
          [
           "Michelle Fischbach"
          ],
          [
           "Michael Guest"
          ],
          [
           "Mike Flood"
          ],
          [
           "Mike Turner<br>Mike Carey"
          ],
          [
           "Mike Kelly<br>Mike Doyle"
          ],
          [
           "Michael McCaul<br>Michael C. Burgess<br>Michael Cloud"
          ],
          [
           "Mike Gallagher"
          ]
         ],
         "geo": "geo",
         "hovertemplate": "POSTAL ABBREVIATION=%{location}<br>Members=%{customdata[0]}<br>count=%{z}<extra></extra>",
         "locationmode": "USA-states",
         "locations": [
          "AL",
          "CA",
          "FL",
          "ID",
          "IL",
          "LA",
          "MN",
          "MS",
          "NE",
          "OH",
          "PA",
          "TX",
          "WI"
         ],
         "name": "",
         "type": "choropleth",
         "z": [
          1,
          4,
          1,
          1,
          2,
          1,
          1,
          1,
          1,
          2,
          2,
          3,
          1
         ]
        }
       ],
       "layout": {
        "coloraxis": {
         "colorbar": {
          "title": {
           "text": "count"
          }
         },
         "colorscale": [
          [
           0,
           "#440154"
          ],
          [
           0.1111111111111111,
           "#482878"
          ],
          [
           0.2222222222222222,
           "#3e4989"
          ],
          [
           0.3333333333333333,
           "#31688e"
          ],
          [
           0.4444444444444444,
           "#26828e"
          ],
          [
           0.5555555555555556,
           "#1f9e89"
          ],
          [
           0.6666666666666666,
           "#35b779"
          ],
          [
           0.7777777777777778,
           "#6ece58"
          ],
          [
           0.8888888888888888,
           "#b5de2b"
          ],
          [
           1,
           "#fde725"
          ]
         ]
        },
        "geo": {
         "center": {},
         "domain": {
          "x": [
           0,
           1
          ],
          "y": [
           0,
           1
          ]
         },
         "scope": "usa"
        },
        "legend": {
         "tracegroupgap": 0
        },
        "margin": {
         "b": 0,
         "l": 0,
         "r": 0,
         "t": 40
        },
        "template": {
         "data": {
          "bar": [
           {
            "error_x": {
             "color": "#2a3f5f"
            },
            "error_y": {
             "color": "#2a3f5f"
            },
            "marker": {
             "line": {
              "color": "#E5ECF6",
              "width": 0.5
             },
             "pattern": {
              "fillmode": "overlay",
              "size": 10,
              "solidity": 0.2
             }
            },
            "type": "bar"
           }
          ],
          "barpolar": [
           {
            "marker": {
             "line": {
              "color": "#E5ECF6",
              "width": 0.5
             },
             "pattern": {
              "fillmode": "overlay",
              "size": 10,
              "solidity": 0.2
             }
            },
            "type": "barpolar"
           }
          ],
          "carpet": [
           {
            "aaxis": {
             "endlinecolor": "#2a3f5f",
             "gridcolor": "white",
             "linecolor": "white",
             "minorgridcolor": "white",
             "startlinecolor": "#2a3f5f"
            },
            "baxis": {
             "endlinecolor": "#2a3f5f",
             "gridcolor": "white",
             "linecolor": "white",
             "minorgridcolor": "white",
             "startlinecolor": "#2a3f5f"
            },
            "type": "carpet"
           }
          ],
          "choropleth": [
           {
            "colorbar": {
             "outlinewidth": 0,
             "ticks": ""
            },
            "type": "choropleth"
           }
          ],
          "contour": [
           {
            "colorbar": {
             "outlinewidth": 0,
             "ticks": ""
            },
            "colorscale": [
             [
              0,
              "#0d0887"
             ],
             [
              0.1111111111111111,
              "#46039f"
             ],
             [
              0.2222222222222222,
              "#7201a8"
             ],
             [
              0.3333333333333333,
              "#9c179e"
             ],
             [
              0.4444444444444444,
              "#bd3786"
             ],
             [
              0.5555555555555556,
              "#d8576b"
             ],
             [
              0.6666666666666666,
              "#ed7953"
             ],
             [
              0.7777777777777778,
              "#fb9f3a"
             ],
             [
              0.8888888888888888,
              "#fdca26"
             ],
             [
              1,
              "#f0f921"
             ]
            ],
            "type": "contour"
           }
          ],
          "contourcarpet": [
           {
            "colorbar": {
             "outlinewidth": 0,
             "ticks": ""
            },
            "type": "contourcarpet"
           }
          ],
          "heatmap": [
           {
            "colorbar": {
             "outlinewidth": 0,
             "ticks": ""
            },
            "colorscale": [
             [
              0,
              "#0d0887"
             ],
             [
              0.1111111111111111,
              "#46039f"
             ],
             [
              0.2222222222222222,
              "#7201a8"
             ],
             [
              0.3333333333333333,
              "#9c179e"
             ],
             [
              0.4444444444444444,
              "#bd3786"
             ],
             [
              0.5555555555555556,
              "#d8576b"
             ],
             [
              0.6666666666666666,
              "#ed7953"
             ],
             [
              0.7777777777777778,
              "#fb9f3a"
             ],
             [
              0.8888888888888888,
              "#fdca26"
             ],
             [
              1,
              "#f0f921"
             ]
            ],
            "type": "heatmap"
           }
          ],
          "heatmapgl": [
           {
            "colorbar": {
             "outlinewidth": 0,
             "ticks": ""
            },
            "colorscale": [
             [
              0,
              "#0d0887"
             ],
             [
              0.1111111111111111,
              "#46039f"
             ],
             [
              0.2222222222222222,
              "#7201a8"
             ],
             [
              0.3333333333333333,
              "#9c179e"
             ],
             [
              0.4444444444444444,
              "#bd3786"
             ],
             [
              0.5555555555555556,
              "#d8576b"
             ],
             [
              0.6666666666666666,
              "#ed7953"
             ],
             [
              0.7777777777777778,
              "#fb9f3a"
             ],
             [
              0.8888888888888888,
              "#fdca26"
             ],
             [
              1,
              "#f0f921"
             ]
            ],
            "type": "heatmapgl"
           }
          ],
          "histogram": [
           {
            "marker": {
             "pattern": {
              "fillmode": "overlay",
              "size": 10,
              "solidity": 0.2
             }
            },
            "type": "histogram"
           }
          ],
          "histogram2d": [
           {
            "colorbar": {
             "outlinewidth": 0,
             "ticks": ""
            },
            "colorscale": [
             [
              0,
              "#0d0887"
             ],
             [
              0.1111111111111111,
              "#46039f"
             ],
             [
              0.2222222222222222,
              "#7201a8"
             ],
             [
              0.3333333333333333,
              "#9c179e"
             ],
             [
              0.4444444444444444,
              "#bd3786"
             ],
             [
              0.5555555555555556,
              "#d8576b"
             ],
             [
              0.6666666666666666,
              "#ed7953"
             ],
             [
              0.7777777777777778,
              "#fb9f3a"
             ],
             [
              0.8888888888888888,
              "#fdca26"
             ],
             [
              1,
              "#f0f921"
             ]
            ],
            "type": "histogram2d"
           }
          ],
          "histogram2dcontour": [
           {
            "colorbar": {
             "outlinewidth": 0,
             "ticks": ""
            },
            "colorscale": [
             [
              0,
              "#0d0887"
             ],
             [
              0.1111111111111111,
              "#46039f"
             ],
             [
              0.2222222222222222,
              "#7201a8"
             ],
             [
              0.3333333333333333,
              "#9c179e"
             ],
             [
              0.4444444444444444,
              "#bd3786"
             ],
             [
              0.5555555555555556,
              "#d8576b"
             ],
             [
              0.6666666666666666,
              "#ed7953"
             ],
             [
              0.7777777777777778,
              "#fb9f3a"
             ],
             [
              0.8888888888888888,
              "#fdca26"
             ],
             [
              1,
              "#f0f921"
             ]
            ],
            "type": "histogram2dcontour"
           }
          ],
          "mesh3d": [
           {
            "colorbar": {
             "outlinewidth": 0,
             "ticks": ""
            },
            "type": "mesh3d"
           }
          ],
          "parcoords": [
           {
            "line": {
             "colorbar": {
              "outlinewidth": 0,
              "ticks": ""
             }
            },
            "type": "parcoords"
           }
          ],
          "pie": [
           {
            "automargin": true,
            "type": "pie"
           }
          ],
          "scatter": [
           {
            "fillpattern": {
             "fillmode": "overlay",
             "size": 10,
             "solidity": 0.2
            },
            "type": "scatter"
           }
          ],
          "scatter3d": [
           {
            "line": {
             "colorbar": {
              "outlinewidth": 0,
              "ticks": ""
             }
            },
            "marker": {
             "colorbar": {
              "outlinewidth": 0,
              "ticks": ""
             }
            },
            "type": "scatter3d"
           }
          ],
          "scattercarpet": [
           {
            "marker": {
             "colorbar": {
              "outlinewidth": 0,
              "ticks": ""
             }
            },
            "type": "scattercarpet"
           }
          ],
          "scattergeo": [
           {
            "marker": {
             "colorbar": {
              "outlinewidth": 0,
              "ticks": ""
             }
            },
            "type": "scattergeo"
           }
          ],
          "scattergl": [
           {
            "marker": {
             "colorbar": {
              "outlinewidth": 0,
              "ticks": ""
             }
            },
            "type": "scattergl"
           }
          ],
          "scattermapbox": [
           {
            "marker": {
             "colorbar": {
              "outlinewidth": 0,
              "ticks": ""
             }
            },
            "type": "scattermapbox"
           }
          ],
          "scatterpolar": [
           {
            "marker": {
             "colorbar": {
              "outlinewidth": 0,
              "ticks": ""
             }
            },
            "type": "scatterpolar"
           }
          ],
          "scatterpolargl": [
           {
            "marker": {
             "colorbar": {
              "outlinewidth": 0,
              "ticks": ""
             }
            },
            "type": "scatterpolargl"
           }
          ],
          "scatterternary": [
           {
            "marker": {
             "colorbar": {
              "outlinewidth": 0,
              "ticks": ""
             }
            },
            "type": "scatterternary"
           }
          ],
          "surface": [
           {
            "colorbar": {
             "outlinewidth": 0,
             "ticks": ""
            },
            "colorscale": [
             [
              0,
              "#0d0887"
             ],
             [
              0.1111111111111111,
              "#46039f"
             ],
             [
              0.2222222222222222,
              "#7201a8"
             ],
             [
              0.3333333333333333,
              "#9c179e"
             ],
             [
              0.4444444444444444,
              "#bd3786"
             ],
             [
              0.5555555555555556,
              "#d8576b"
             ],
             [
              0.6666666666666666,
              "#ed7953"
             ],
             [
              0.7777777777777778,
              "#fb9f3a"
             ],
             [
              0.8888888888888888,
              "#fdca26"
             ],
             [
              1,
              "#f0f921"
             ]
            ],
            "type": "surface"
           }
          ],
          "table": [
           {
            "cells": {
             "fill": {
              "color": "#EBF0F8"
             },
             "line": {
              "color": "white"
             }
            },
            "header": {
             "fill": {
              "color": "#C8D4E3"
             },
             "line": {
              "color": "white"
             }
            },
            "type": "table"
           }
          ]
         },
         "layout": {
          "annotationdefaults": {
           "arrowcolor": "#2a3f5f",
           "arrowhead": 0,
           "arrowwidth": 1
          },
          "autotypenumbers": "strict",
          "coloraxis": {
           "colorbar": {
            "outlinewidth": 0,
            "ticks": ""
           }
          },
          "colorscale": {
           "diverging": [
            [
             0,
             "#8e0152"
            ],
            [
             0.1,
             "#c51b7d"
            ],
            [
             0.2,
             "#de77ae"
            ],
            [
             0.3,
             "#f1b6da"
            ],
            [
             0.4,
             "#fde0ef"
            ],
            [
             0.5,
             "#f7f7f7"
            ],
            [
             0.6,
             "#e6f5d0"
            ],
            [
             0.7,
             "#b8e186"
            ],
            [
             0.8,
             "#7fbc41"
            ],
            [
             0.9,
             "#4d9221"
            ],
            [
             1,
             "#276419"
            ]
           ],
           "sequential": [
            [
             0,
             "#0d0887"
            ],
            [
             0.1111111111111111,
             "#46039f"
            ],
            [
             0.2222222222222222,
             "#7201a8"
            ],
            [
             0.3333333333333333,
             "#9c179e"
            ],
            [
             0.4444444444444444,
             "#bd3786"
            ],
            [
             0.5555555555555556,
             "#d8576b"
            ],
            [
             0.6666666666666666,
             "#ed7953"
            ],
            [
             0.7777777777777778,
             "#fb9f3a"
            ],
            [
             0.8888888888888888,
             "#fdca26"
            ],
            [
             1,
             "#f0f921"
            ]
           ],
           "sequentialminus": [
            [
             0,
             "#0d0887"
            ],
            [
             0.1111111111111111,
             "#46039f"
            ],
            [
             0.2222222222222222,
             "#7201a8"
            ],
            [
             0.3333333333333333,
             "#9c179e"
            ],
            [
             0.4444444444444444,
             "#bd3786"
            ],
            [
             0.5555555555555556,
             "#d8576b"
            ],
            [
             0.6666666666666666,
             "#ed7953"
            ],
            [
             0.7777777777777778,
             "#fb9f3a"
            ],
            [
             0.8888888888888888,
             "#fdca26"
            ],
            [
             1,
             "#f0f921"
            ]
           ]
          },
          "colorway": [
           "#636efa",
           "#EF553B",
           "#00cc96",
           "#ab63fa",
           "#FFA15A",
           "#19d3f3",
           "#FF6692",
           "#B6E880",
           "#FF97FF",
           "#FECB52"
          ],
          "font": {
           "color": "#2a3f5f"
          },
          "geo": {
           "bgcolor": "white",
           "lakecolor": "white",
           "landcolor": "#E5ECF6",
           "showlakes": true,
           "showland": true,
           "subunitcolor": "white"
          },
          "hoverlabel": {
           "align": "left"
          },
          "hovermode": "closest",
          "mapbox": {
           "style": "light"
          },
          "paper_bgcolor": "white",
          "plot_bgcolor": "#E5ECF6",
          "polar": {
           "angularaxis": {
            "gridcolor": "white",
            "linecolor": "white",
            "ticks": ""
           },
           "bgcolor": "#E5ECF6",
           "radialaxis": {
            "gridcolor": "white",
            "linecolor": "white",
            "ticks": ""
           }
          },
          "scene": {
           "xaxis": {
            "backgroundcolor": "#E5ECF6",
            "gridcolor": "white",
            "gridwidth": 2,
            "linecolor": "white",
            "showbackground": true,
            "ticks": "",
            "zerolinecolor": "white"
           },
           "yaxis": {
            "backgroundcolor": "#E5ECF6",
            "gridcolor": "white",
            "gridwidth": 2,
            "linecolor": "white",
            "showbackground": true,
            "ticks": "",
            "zerolinecolor": "white"
           },
           "zaxis": {
            "backgroundcolor": "#E5ECF6",
            "gridcolor": "white",
            "gridwidth": 2,
            "linecolor": "white",
            "showbackground": true,
            "ticks": "",
            "zerolinecolor": "white"
           }
          },
          "shapedefaults": {
           "line": {
            "color": "#2a3f5f"
           }
          },
          "ternary": {
           "aaxis": {
            "gridcolor": "white",
            "linecolor": "white",
            "ticks": ""
           },
           "baxis": {
            "gridcolor": "white",
            "linecolor": "white",
            "ticks": ""
           },
           "bgcolor": "#E5ECF6",
           "caxis": {
            "gridcolor": "white",
            "linecolor": "white",
            "ticks": ""
           }
          },
          "title": {
           "x": 0.05
          },
          "xaxis": {
           "automargin": true,
           "gridcolor": "white",
           "linecolor": "white",
           "ticks": "",
           "title": {
            "standoff": 15
           },
           "zerolinecolor": "white",
           "zerolinewidth": 2
          },
          "yaxis": {
           "automargin": true,
           "gridcolor": "white",
           "linecolor": "white",
           "ticks": "",
           "title": {
            "standoff": 15
           },
           "zerolinecolor": "white",
           "zerolinewidth": 2
          }
         }
        },
        "title": {
         "text": "Mike/Michael/Michelle's in the U.S. House of Representatives"
        }
       }
      }
     },
     "metadata": {},
     "output_type": "display_data"
    }
   ],
   "source": [
    "# Build the choropleth\n",
    "fig = px.choropleth(plt_data2, \n",
    "    locations=plt_data2['POSTAL ABBREVIATION'], \n",
    "    locationmode='USA-states',\n",
    "    color=plt_data2['count'],\n",
    "    color_continuous_scale=\"Viridis\",\n",
    "    # range_color=(0, 4),\n",
    "    scope=\"usa\",\n",
    "    # labels={'is match':'Has a Jo(h)n'},\n",
    "    title=\"Mike/Michael/Michelle's in the U.S. House of Representatives\",\n",
    "    hover_data=['Members']\n",
    ")\n",
    "fig.update_layout(margin={\"r\":0,\"t\":40,\"l\":0,\"b\":0})\n",
    "fig.show()"
   ]
  },
  {
   "cell_type": "code",
   "execution_count": null,
   "metadata": {},
   "outputs": [],
   "source": []
  }
 ],
 "metadata": {
  "kernelspec": {
   "display_name": "Python 3.10.6 ('py310')",
   "language": "python",
   "name": "python3"
  },
  "language_info": {
   "codemirror_mode": {
    "name": "ipython",
    "version": 3
   },
   "file_extension": ".py",
   "mimetype": "text/x-python",
   "name": "python",
   "nbconvert_exporter": "python",
   "pygments_lexer": "ipython3",
   "version": "3.10.6"
  },
  "orig_nbformat": 4,
  "vscode": {
   "interpreter": {
    "hash": "10a98271dc2d25088c0569b46622d4c8bb6910832cf16acedffd85e6f1fc47cb"
   }
  }
 },
 "nbformat": 4,
 "nbformat_minor": 2
}
